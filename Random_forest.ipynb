{
  "nbformat": 4,
  "nbformat_minor": 0,
  "metadata": {
    "colab": {
      "name": "Random_forest.ipynb",
      "provenance": [],
      "collapsed_sections": []
    },
    "kernelspec": {
      "name": "python3",
      "display_name": "Python 3"
    }
  },
  "cells": [
    {
      "cell_type": "code",
      "metadata": {
        "id": "ukeIP-IZ1j0Z",
        "colab_type": "code",
        "colab": {}
      },
      "source": [
        "import pandas as pd\n",
        "import numpy as np\n",
        "import seaborn as sns\n",
        "from sklearn import tree\n",
        "from sklearn.model_selection import train_test_split, cross_val_score, GridSearchCV\n",
        "from sklearn.metrics import precision_score"
      ],
      "execution_count": 0,
      "outputs": []
    },
    {
      "cell_type": "markdown",
      "metadata": {
        "id": "HL-JPkp-F0QQ",
        "colab_type": "text"
      },
      "source": [
        "3.5.1 Переберите параметры с помощью GridSearchCV и обучите Random Forest на данных, указанных в предыдущем стэпе. Передайте в GridSearchCV модель с указанием random_state.\n",
        "Параметры для выбора -\n",
        "\n",
        "n_estimators: от 10 до 50 с шагом 10\n",
        "max_depth: от 1 до 12 с шагом 2\n",
        "min_samples_leaf: от 1 до 7\n",
        "min_samples_split: от 2 до 9 с шагом 2\n",
        "Укажите cv=3. Для ускорения расчётов в GridSearchCV"
      ]
    },
    {
      "cell_type": "markdown",
      "metadata": {
        "id": "ofRa7ZkVGLyx",
        "colab_type": "text"
      },
      "source": [
        "3.5.3 Теперь у нас есть классификатор, определяющий какие грибы съедобные, а какие нет, испробуем его! Предскажите съедобность этих данных грибов и напишите в ответ число несъедобных грибов (класс равен 1)."
      ]
    },
    {
      "cell_type": "code",
      "metadata": {
        "id": "p-gYe98aUtyk",
        "colab_type": "code",
        "colab": {}
      },
      "source": [
        "from sklearn.ensemble import RandomForestClassifier\n"
      ],
      "execution_count": 0,
      "outputs": []
    },
    {
      "cell_type": "code",
      "metadata": {
        "id": "gXWqRSwjHBFn",
        "colab_type": "code",
        "outputId": "c2956ca6-ef5b-4dab-8216-75e2897d46ed",
        "colab": {
          "base_uri": "https://localhost:8080/",
          "height": 274
        }
      },
      "source": [
        "mushroom = pd.read_csv('https://stepik.org/media/attachments/course/4852/training_mush.csv')\n",
        "mushroom.head()"
      ],
      "execution_count": 0,
      "outputs": [
        {
          "output_type": "execute_result",
          "data": {
            "text/html": [
              "<div>\n",
              "<style scoped>\n",
              "    .dataframe tbody tr th:only-of-type {\n",
              "        vertical-align: middle;\n",
              "    }\n",
              "\n",
              "    .dataframe tbody tr th {\n",
              "        vertical-align: top;\n",
              "    }\n",
              "\n",
              "    .dataframe thead th {\n",
              "        text-align: right;\n",
              "    }\n",
              "</style>\n",
              "<table border=\"1\" class=\"dataframe\">\n",
              "  <thead>\n",
              "    <tr style=\"text-align: right;\">\n",
              "      <th></th>\n",
              "      <th>cap-shape</th>\n",
              "      <th>cap-surface</th>\n",
              "      <th>cap-color</th>\n",
              "      <th>bruises</th>\n",
              "      <th>odor</th>\n",
              "      <th>gill-attachment</th>\n",
              "      <th>gill-spacing</th>\n",
              "      <th>gill-size</th>\n",
              "      <th>gill-color</th>\n",
              "      <th>stalk-shape</th>\n",
              "      <th>stalk-root</th>\n",
              "      <th>stalk-surface-above-ring</th>\n",
              "      <th>stalk-surface-below-ring</th>\n",
              "      <th>stalk-color-above-ring</th>\n",
              "      <th>stalk-color-below-ring</th>\n",
              "      <th>veil-type</th>\n",
              "      <th>veil-color</th>\n",
              "      <th>ring-number</th>\n",
              "      <th>ring-type</th>\n",
              "      <th>spore-print-color</th>\n",
              "      <th>population</th>\n",
              "      <th>habitat</th>\n",
              "      <th>class</th>\n",
              "    </tr>\n",
              "  </thead>\n",
              "  <tbody>\n",
              "    <tr>\n",
              "      <th>0</th>\n",
              "      <td>2</td>\n",
              "      <td>0</td>\n",
              "      <td>3</td>\n",
              "      <td>1</td>\n",
              "      <td>5</td>\n",
              "      <td>1</td>\n",
              "      <td>0</td>\n",
              "      <td>0</td>\n",
              "      <td>9</td>\n",
              "      <td>1</td>\n",
              "      <td>1</td>\n",
              "      <td>2</td>\n",
              "      <td>2</td>\n",
              "      <td>3</td>\n",
              "      <td>7</td>\n",
              "      <td>0</td>\n",
              "      <td>2</td>\n",
              "      <td>1</td>\n",
              "      <td>4</td>\n",
              "      <td>3</td>\n",
              "      <td>5</td>\n",
              "      <td>0</td>\n",
              "      <td>0</td>\n",
              "    </tr>\n",
              "    <tr>\n",
              "      <th>1</th>\n",
              "      <td>2</td>\n",
              "      <td>0</td>\n",
              "      <td>4</td>\n",
              "      <td>0</td>\n",
              "      <td>5</td>\n",
              "      <td>1</td>\n",
              "      <td>0</td>\n",
              "      <td>1</td>\n",
              "      <td>10</td>\n",
              "      <td>0</td>\n",
              "      <td>0</td>\n",
              "      <td>1</td>\n",
              "      <td>3</td>\n",
              "      <td>7</td>\n",
              "      <td>4</td>\n",
              "      <td>0</td>\n",
              "      <td>2</td>\n",
              "      <td>1</td>\n",
              "      <td>0</td>\n",
              "      <td>7</td>\n",
              "      <td>4</td>\n",
              "      <td>0</td>\n",
              "      <td>1</td>\n",
              "    </tr>\n",
              "    <tr>\n",
              "      <th>2</th>\n",
              "      <td>2</td>\n",
              "      <td>0</td>\n",
              "      <td>3</td>\n",
              "      <td>0</td>\n",
              "      <td>2</td>\n",
              "      <td>1</td>\n",
              "      <td>0</td>\n",
              "      <td>0</td>\n",
              "      <td>7</td>\n",
              "      <td>0</td>\n",
              "      <td>1</td>\n",
              "      <td>1</td>\n",
              "      <td>1</td>\n",
              "      <td>0</td>\n",
              "      <td>4</td>\n",
              "      <td>0</td>\n",
              "      <td>2</td>\n",
              "      <td>1</td>\n",
              "      <td>2</td>\n",
              "      <td>1</td>\n",
              "      <td>5</td>\n",
              "      <td>1</td>\n",
              "      <td>1</td>\n",
              "    </tr>\n",
              "    <tr>\n",
              "      <th>3</th>\n",
              "      <td>0</td>\n",
              "      <td>0</td>\n",
              "      <td>3</td>\n",
              "      <td>0</td>\n",
              "      <td>5</td>\n",
              "      <td>1</td>\n",
              "      <td>1</td>\n",
              "      <td>0</td>\n",
              "      <td>2</td>\n",
              "      <td>0</td>\n",
              "      <td>0</td>\n",
              "      <td>1</td>\n",
              "      <td>2</td>\n",
              "      <td>7</td>\n",
              "      <td>7</td>\n",
              "      <td>0</td>\n",
              "      <td>2</td>\n",
              "      <td>2</td>\n",
              "      <td>4</td>\n",
              "      <td>7</td>\n",
              "      <td>3</td>\n",
              "      <td>1</td>\n",
              "      <td>0</td>\n",
              "    </tr>\n",
              "    <tr>\n",
              "      <th>4</th>\n",
              "      <td>2</td>\n",
              "      <td>3</td>\n",
              "      <td>3</td>\n",
              "      <td>1</td>\n",
              "      <td>5</td>\n",
              "      <td>1</td>\n",
              "      <td>0</td>\n",
              "      <td>0</td>\n",
              "      <td>10</td>\n",
              "      <td>1</td>\n",
              "      <td>1</td>\n",
              "      <td>2</td>\n",
              "      <td>2</td>\n",
              "      <td>3</td>\n",
              "      <td>6</td>\n",
              "      <td>0</td>\n",
              "      <td>2</td>\n",
              "      <td>1</td>\n",
              "      <td>4</td>\n",
              "      <td>2</td>\n",
              "      <td>5</td>\n",
              "      <td>0</td>\n",
              "      <td>0</td>\n",
              "    </tr>\n",
              "  </tbody>\n",
              "</table>\n",
              "</div>"
            ],
            "text/plain": [
              "   cap-shape  cap-surface  cap-color  ...  population  habitat  class\n",
              "0          2            0          3  ...           5        0      0\n",
              "1          2            0          4  ...           4        0      1\n",
              "2          2            0          3  ...           5        1      1\n",
              "3          0            0          3  ...           3        1      0\n",
              "4          2            3          3  ...           5        0      0\n",
              "\n",
              "[5 rows x 23 columns]"
            ]
          },
          "metadata": {
            "tags": []
          },
          "execution_count": 10
        }
      ]
    },
    {
      "cell_type": "code",
      "metadata": {
        "id": "gn6U6ld0J_X5",
        "colab_type": "code",
        "outputId": "11673537-6974-4ab6-bc01-55335bc0185f",
        "colab": {
          "base_uri": "https://localhost:8080/",
          "height": 35
        }
      },
      "source": [
        "mash = pd.read_csv('https://stepik.org/media/attachments/course/4852/training_mush.csv')\n",
        "X_train = mash.drop('class', axis=1)\n",
        "y_train = mash['class']\n",
        "mash_rf_clf = RandomForestClassifier(random_state=0)\n",
        "parametrs = {'n_estimators':range(10,51,10),'max_depth':range(1,12,2),'min_samples_leaf':range(1,8),'min_samples_split':range(2,9,2)}\n",
        "grid_search_cv_clf = GridSearchCV(mash_rf_clf,parametrs, cv=3,n_jobs=-1)\n",
        "grid_search_cv_clf.fit(X_train, y_train)\n",
        "best_clf = grid_search_cv_clf.best_estimator_\n",
        "mtest = pd.read_csv('https://stepik.org/media/attachments/course/4852/testing_mush.csv')\n",
        "best_clf.predict(mtest).sum()"
      ],
      "execution_count": 0,
      "outputs": [
        {
          "output_type": "execute_result",
          "data": {
            "text/plain": [
              "976"
            ]
          },
          "metadata": {
            "tags": []
          },
          "execution_count": 10
        }
      ]
    },
    {
      "cell_type": "markdown",
      "metadata": {
        "id": "ejZbFPD7IJGG",
        "colab_type": "text"
      },
      "source": [
        "3.5.5 На Землю нападают войска жукеров, и в их флоте присутствуют транспортники, истребители и крейсеры. Для борьбы с каждым типом кораблей используется свой вид оружия. Как аналитику из Штаба Обороны, вам поручено разработать модель, предсказывающую какие корабли участвуют в атаке, чтобы успешно отбить нападения на различные области планеты\n",
        "\n",
        "Данных удалось собрать немного, и предсказывать придётся гораздо больший по объёму массив.\n",
        "\n",
        "Обучите модель и предскажите классы кораблей для новых поступающих данных. Укажите в ответе через пробел число крейсеров, транспортников и истребителей."
      ]
    },
    {
      "cell_type": "code",
      "metadata": {
        "id": "WCfqkoeOOFoe",
        "colab_type": "code",
        "outputId": "309dc149-1df2-4528-dada-3f303e08f143",
        "colab": {
          "base_uri": "https://localhost:8080/",
          "height": 87
        }
      },
      "source": [
        "invasion = pd.read_csv(\"https://stepik.org/media/attachments/course/4852/invasion.csv\", sep=',')\n",
        "operative_information = pd.read_csv(\"https://stepik.org/media/attachments/course/4852/operative_information.csv\", sep=',')\n",
        "\n",
        "invasion.head()\n",
        "invasion.rename(columns={'class': 'ship_class'}, inplace=True)\n",
        "\n",
        "X = invasion.drop(['ship_class'], axis=1)\n",
        "y = invasion.ship_class\n",
        "\n",
        "clf = RandomForestClassifier(random_state=0, criterion='entropy')\n",
        "param = {'n_estimators': range(10,50,10), 'max_depth': range(1,12,2), 'min_samples_leaf': range(1,7), 'min_samples_split': range(2,9,2)} \n",
        "search = GridSearchCV(clf, param, n_jobs=-1, cv=3)\n",
        "search.fit(X, y)\n",
        "\n",
        "predictions = search.predict(operative_information)\n",
        "\n",
        "y_test = pd.Series(predictions)\n",
        "y_test.value_counts()"
      ],
      "execution_count": 0,
      "outputs": [
        {
          "output_type": "execute_result",
          "data": {
            "text/plain": [
              "fighter      675\n",
              "transport    595\n",
              "cruiser      230\n",
              "dtype: int64"
            ]
          },
          "metadata": {
            "tags": []
          },
          "execution_count": 26
        }
      ]
    },
    {
      "cell_type": "markdown",
      "metadata": {
        "id": "ER15UtDHNR_0",
        "colab_type": "text"
      },
      "source": [
        "3.5.7 Вас повысили и перевели на новое направление (новые должности - новые задачи) - теперь нужно выявлять опасные регионы космоса, где могут находиться жукеры.\n",
        "\n",
        "Проанализируйте имеющиеся данные об опасности разных регионов космоса и укажите наиболее вероятные причины угрозы"
      ]
    },
    {
      "cell_type": "code",
      "metadata": {
        "id": "yF4S2QAofOBk",
        "colab_type": "code",
        "outputId": "1e7047e1-5554-40d7-867f-42516f9922d7",
        "colab": {
          "base_uri": "https://localhost:8080/",
          "height": 175
        }
      },
      "source": [
        "cosmo = pd.read_csv('https://stepik.org/media/attachments/course/4852/space_can_be_a_dangerous_place.csv').drop(['r', 'phi', 'peradventure_index', 'dustiness'], axis=1\n",
        "                                                                                                               )\n",
        "cosmo.corr()"
      ],
      "execution_count": 0,
      "outputs": [
        {
          "output_type": "execute_result",
          "data": {
            "text/html": [
              "<div>\n",
              "<style scoped>\n",
              "    .dataframe tbody tr th:only-of-type {\n",
              "        vertical-align: middle;\n",
              "    }\n",
              "\n",
              "    .dataframe tbody tr th {\n",
              "        vertical-align: top;\n",
              "    }\n",
              "\n",
              "    .dataframe thead th {\n",
              "        text-align: right;\n",
              "    }\n",
              "</style>\n",
              "<table border=\"1\" class=\"dataframe\">\n",
              "  <thead>\n",
              "    <tr style=\"text-align: right;\">\n",
              "      <th></th>\n",
              "      <th>black_hole_is_near</th>\n",
              "      <th>buggers_were_noticed</th>\n",
              "      <th>nearby_system_has_planemo</th>\n",
              "      <th>dangerous</th>\n",
              "    </tr>\n",
              "  </thead>\n",
              "  <tbody>\n",
              "    <tr>\n",
              "      <th>black_hole_is_near</th>\n",
              "      <td>1.000000</td>\n",
              "      <td>-0.001874</td>\n",
              "      <td>0.002661</td>\n",
              "      <td>0.052968</td>\n",
              "    </tr>\n",
              "    <tr>\n",
              "      <th>buggers_were_noticed</th>\n",
              "      <td>-0.001874</td>\n",
              "      <td>1.000000</td>\n",
              "      <td>-0.003031</td>\n",
              "      <td>0.344469</td>\n",
              "    </tr>\n",
              "    <tr>\n",
              "      <th>nearby_system_has_planemo</th>\n",
              "      <td>0.002661</td>\n",
              "      <td>-0.003031</td>\n",
              "      <td>1.000000</td>\n",
              "      <td>0.299508</td>\n",
              "    </tr>\n",
              "    <tr>\n",
              "      <th>dangerous</th>\n",
              "      <td>0.052968</td>\n",
              "      <td>0.344469</td>\n",
              "      <td>0.299508</td>\n",
              "      <td>1.000000</td>\n",
              "    </tr>\n",
              "  </tbody>\n",
              "</table>\n",
              "</div>"
            ],
            "text/plain": [
              "                           black_hole_is_near  ...  dangerous\n",
              "black_hole_is_near                   1.000000  ...   0.052968\n",
              "buggers_were_noticed                -0.001874  ...   0.344469\n",
              "nearby_system_has_planemo            0.002661  ...   0.299508\n",
              "dangerous                            0.052968  ...   1.000000\n",
              "\n",
              "[4 rows x 4 columns]"
            ]
          },
          "metadata": {
            "tags": []
          },
          "execution_count": 7
        }
      ]
    },
    {
      "cell_type": "code",
      "metadata": {
        "id": "ekIB7cmcm7iF",
        "colab_type": "code",
        "outputId": "afb1b5c0-29ae-4164-b56e-a5152a873412",
        "colab": {
          "base_uri": "https://localhost:8080/",
          "height": 121
        }
      },
      "source": [
        "%time df.mean(axis=0)"
      ],
      "execution_count": 0,
      "outputs": [
        {
          "output_type": "stream",
          "text": [
            "CPU times: user 8min 5s, sys: 28.1 s, total: 8min 33s\n",
            "Wall time: 8min 30s\n"
          ],
          "name": "stdout"
        },
        {
          "output_type": "execute_result",
          "data": {
            "text/plain": [
              "step_id      3.373259e+04\n",
              "timestamp    1.480582e+09\n",
              "user_id      1.319887e+04\n",
              "dtype: float64"
            ]
          },
          "metadata": {
            "tags": []
          },
          "execution_count": 4
        }
      ]
    }
  ]
}