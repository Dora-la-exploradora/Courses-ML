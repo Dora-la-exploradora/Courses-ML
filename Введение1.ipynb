{
  "nbformat": 4,
  "nbformat_minor": 0,
  "metadata": {
    "colab": {
      "name": "ML(1).ipynb",
      "provenance": [],
      "collapsed_sections": [],
      "include_colab_link": true
    },
    "kernelspec": {
      "name": "python3",
      "display_name": "Python 3"
    }
  },
  "cells": [
    {
      "cell_type": "markdown",
      "metadata": {
        "id": "view-in-github",
        "colab_type": "text"
      },
      "source": [
        "<a href=\"https://colab.research.google.com/github/Dora-la-exploradora/Courses-ML/blob/master/ML(1).ipynb\" target=\"_parent\"><img src=\"https://colab.research.google.com/assets/colab-badge.svg\" alt=\"Open In Colab\"/></a>"
      ]
    },
    {
      "cell_type": "code",
      "metadata": {
        "id": "Jccit5JvTJbr",
        "colab_type": "code",
        "colab": {}
      },
      "source": [
        "import pandas as pd\n",
        "import numpy as np\n",
        "%matplotlib inline\n",
        "import matplotlib.pyplot as plt\n",
        "import seaborn as sns"
      ],
      "execution_count": 0,
      "outputs": []
    },
    {
      "cell_type": "markdown",
      "metadata": {
        "id": "1WH1g9bs1oTU",
        "colab_type": "text"
      },
      "source": [
        "Группировка и агрегация"
      ]
    },
    {
      "cell_type": "markdown",
      "metadata": {
        "id": "G2rfVHrOuS7m",
        "colab_type": "text"
      },
      "source": [
        "1.6.1 Пересчитаем число ног у героев игры Dota2! Сгруппируйте героев из датасэта по числу их ног (колонка legs), и заполните их число в задании ниже."
      ]
    },
    {
      "cell_type": "code",
      "metadata": {
        "id": "UB6W1D_baMaU",
        "colab_type": "code",
        "outputId": "a8e90f34-a971-4e0e-fb4b-a7ea8bce35e8",
        "colab": {
          "base_uri": "https://localhost:8080/",
          "height": 202
        }
      },
      "source": [
        "df = pd.read_csv(\"https://stepik.org/media/attachments/course/4852/dota_hero_stats.csv\")\n",
        "df.head()"
      ],
      "execution_count": 0,
      "outputs": [
        {
          "output_type": "execute_result",
          "data": {
            "text/html": [
              "<div>\n",
              "<style scoped>\n",
              "    .dataframe tbody tr th:only-of-type {\n",
              "        vertical-align: middle;\n",
              "    }\n",
              "\n",
              "    .dataframe tbody tr th {\n",
              "        vertical-align: top;\n",
              "    }\n",
              "\n",
              "    .dataframe thead th {\n",
              "        text-align: right;\n",
              "    }\n",
              "</style>\n",
              "<table border=\"1\" class=\"dataframe\">\n",
              "  <thead>\n",
              "    <tr style=\"text-align: right;\">\n",
              "      <th></th>\n",
              "      <th>Unnamed: 0</th>\n",
              "      <th>attack_type</th>\n",
              "      <th>id</th>\n",
              "      <th>legs</th>\n",
              "      <th>localized_name</th>\n",
              "      <th>name</th>\n",
              "      <th>primary_attr</th>\n",
              "      <th>roles</th>\n",
              "    </tr>\n",
              "  </thead>\n",
              "  <tbody>\n",
              "    <tr>\n",
              "      <th>0</th>\n",
              "      <td>0</td>\n",
              "      <td>Melee</td>\n",
              "      <td>1</td>\n",
              "      <td>2</td>\n",
              "      <td>Anti-Mage</td>\n",
              "      <td>npc_dota_hero_antimage</td>\n",
              "      <td>agi</td>\n",
              "      <td>['Carry', 'Escape', 'Nuker']</td>\n",
              "    </tr>\n",
              "    <tr>\n",
              "      <th>1</th>\n",
              "      <td>1</td>\n",
              "      <td>Melee</td>\n",
              "      <td>2</td>\n",
              "      <td>2</td>\n",
              "      <td>Axe</td>\n",
              "      <td>npc_dota_hero_axe</td>\n",
              "      <td>str</td>\n",
              "      <td>['Initiator', 'Durable', 'Disabler', 'Jungler']</td>\n",
              "    </tr>\n",
              "    <tr>\n",
              "      <th>2</th>\n",
              "      <td>2</td>\n",
              "      <td>Ranged</td>\n",
              "      <td>3</td>\n",
              "      <td>4</td>\n",
              "      <td>Bane</td>\n",
              "      <td>npc_dota_hero_bane</td>\n",
              "      <td>int</td>\n",
              "      <td>['Support', 'Disabler', 'Nuker', 'Durable']</td>\n",
              "    </tr>\n",
              "    <tr>\n",
              "      <th>3</th>\n",
              "      <td>3</td>\n",
              "      <td>Melee</td>\n",
              "      <td>4</td>\n",
              "      <td>2</td>\n",
              "      <td>Bloodseeker</td>\n",
              "      <td>npc_dota_hero_bloodseeker</td>\n",
              "      <td>agi</td>\n",
              "      <td>['Carry', 'Disabler', 'Jungler', 'Nuker', 'Ini...</td>\n",
              "    </tr>\n",
              "    <tr>\n",
              "      <th>4</th>\n",
              "      <td>4</td>\n",
              "      <td>Ranged</td>\n",
              "      <td>5</td>\n",
              "      <td>2</td>\n",
              "      <td>Crystal Maiden</td>\n",
              "      <td>npc_dota_hero_crystal_maiden</td>\n",
              "      <td>int</td>\n",
              "      <td>['Support', 'Disabler', 'Nuker', 'Jungler']</td>\n",
              "    </tr>\n",
              "  </tbody>\n",
              "</table>\n",
              "</div>"
            ],
            "text/plain": [
              "   Unnamed: 0  ...                                              roles\n",
              "0           0  ...                       ['Carry', 'Escape', 'Nuker']\n",
              "1           1  ...    ['Initiator', 'Durable', 'Disabler', 'Jungler']\n",
              "2           2  ...        ['Support', 'Disabler', 'Nuker', 'Durable']\n",
              "3           3  ...  ['Carry', 'Disabler', 'Jungler', 'Nuker', 'Ini...\n",
              "4           4  ...        ['Support', 'Disabler', 'Nuker', 'Jungler']\n",
              "\n",
              "[5 rows x 8 columns]"
            ]
          },
          "metadata": {
            "tags": []
          },
          "execution_count": 3
        }
      ]
    },
    {
      "cell_type": "code",
      "metadata": {
        "id": "AuKKoUaEwvZL",
        "colab_type": "code",
        "outputId": "ba76b74f-915a-49e0-e408-0903e0b4c385",
        "colab": {
          "base_uri": "https://localhost:8080/",
          "height": 233
        }
      },
      "source": [
        "df.groupby('legs').aggregate({\"localized_name\" : \"count\"})"
      ],
      "execution_count": 0,
      "outputs": [
        {
          "output_type": "execute_result",
          "data": {
            "text/html": [
              "<div>\n",
              "<style scoped>\n",
              "    .dataframe tbody tr th:only-of-type {\n",
              "        vertical-align: middle;\n",
              "    }\n",
              "\n",
              "    .dataframe tbody tr th {\n",
              "        vertical-align: top;\n",
              "    }\n",
              "\n",
              "    .dataframe thead th {\n",
              "        text-align: right;\n",
              "    }\n",
              "</style>\n",
              "<table border=\"1\" class=\"dataframe\">\n",
              "  <thead>\n",
              "    <tr style=\"text-align: right;\">\n",
              "      <th></th>\n",
              "      <th>localized_name</th>\n",
              "    </tr>\n",
              "    <tr>\n",
              "      <th>legs</th>\n",
              "      <th></th>\n",
              "    </tr>\n",
              "  </thead>\n",
              "  <tbody>\n",
              "    <tr>\n",
              "      <th>0</th>\n",
              "      <td>11</td>\n",
              "    </tr>\n",
              "    <tr>\n",
              "      <th>2</th>\n",
              "      <td>95</td>\n",
              "    </tr>\n",
              "    <tr>\n",
              "      <th>4</th>\n",
              "      <td>7</td>\n",
              "    </tr>\n",
              "    <tr>\n",
              "      <th>6</th>\n",
              "      <td>3</td>\n",
              "    </tr>\n",
              "    <tr>\n",
              "      <th>8</th>\n",
              "      <td>1</td>\n",
              "    </tr>\n",
              "  </tbody>\n",
              "</table>\n",
              "</div>"
            ],
            "text/plain": [
              "      localized_name\n",
              "legs                \n",
              "0                 11\n",
              "2                 95\n",
              "4                  7\n",
              "6                  3\n",
              "8                  1"
            ]
          },
          "metadata": {
            "tags": []
          },
          "execution_count": 4
        }
      ]
    },
    {
      "cell_type": "markdown",
      "metadata": {
        "id": "LnRMOKogxYLO",
        "colab_type": "text"
      },
      "source": [
        "1.6.2 К нам поступили данные из бухгалтерии о заработках Лупы и Пупы за разные задачи! Посмотрите у кого из них больше средний заработок в различных категориях (колонка Type) и заполните таблицу, указывая исполнителя с большим заработком в каждой из категорий."
      ]
    },
    {
      "cell_type": "code",
      "metadata": {
        "id": "OjG7E3NhxfJp",
        "colab_type": "code",
        "outputId": "f5591c22-00a5-41a8-ae61-610369794f86",
        "colab": {
          "base_uri": "https://localhost:8080/",
          "height": 202
        }
      },
      "source": [
        "pupa = pd.read_csv(\"https://stepik.org/media/attachments/course/4852/accountancy.csv\")\n",
        "pupa.head()"
      ],
      "execution_count": 0,
      "outputs": [
        {
          "output_type": "execute_result",
          "data": {
            "text/html": [
              "<div>\n",
              "<style scoped>\n",
              "    .dataframe tbody tr th:only-of-type {\n",
              "        vertical-align: middle;\n",
              "    }\n",
              "\n",
              "    .dataframe tbody tr th {\n",
              "        vertical-align: top;\n",
              "    }\n",
              "\n",
              "    .dataframe thead th {\n",
              "        text-align: right;\n",
              "    }\n",
              "</style>\n",
              "<table border=\"1\" class=\"dataframe\">\n",
              "  <thead>\n",
              "    <tr style=\"text-align: right;\">\n",
              "      <th></th>\n",
              "      <th>Unnamed: 0</th>\n",
              "      <th>Executor</th>\n",
              "      <th>Type</th>\n",
              "      <th>Salary</th>\n",
              "    </tr>\n",
              "  </thead>\n",
              "  <tbody>\n",
              "    <tr>\n",
              "      <th>0</th>\n",
              "      <td>0</td>\n",
              "      <td>Pupa</td>\n",
              "      <td>D</td>\n",
              "      <td>63</td>\n",
              "    </tr>\n",
              "    <tr>\n",
              "      <th>1</th>\n",
              "      <td>1</td>\n",
              "      <td>Pupa</td>\n",
              "      <td>A</td>\n",
              "      <td>158</td>\n",
              "    </tr>\n",
              "    <tr>\n",
              "      <th>2</th>\n",
              "      <td>2</td>\n",
              "      <td>Pupa</td>\n",
              "      <td>D</td>\n",
              "      <td>194</td>\n",
              "    </tr>\n",
              "    <tr>\n",
              "      <th>3</th>\n",
              "      <td>3</td>\n",
              "      <td>Pupa</td>\n",
              "      <td>E</td>\n",
              "      <td>109</td>\n",
              "    </tr>\n",
              "    <tr>\n",
              "      <th>4</th>\n",
              "      <td>4</td>\n",
              "      <td>Loopa</td>\n",
              "      <td>E</td>\n",
              "      <td>184</td>\n",
              "    </tr>\n",
              "  </tbody>\n",
              "</table>\n",
              "</div>"
            ],
            "text/plain": [
              "   Unnamed: 0 Executor Type  Salary\n",
              "0           0     Pupa    D      63\n",
              "1           1     Pupa    A     158\n",
              "2           2     Pupa    D     194\n",
              "3           3     Pupa    E     109\n",
              "4           4    Loopa    E     184"
            ]
          },
          "metadata": {
            "tags": []
          },
          "execution_count": 6
        }
      ]
    },
    {
      "cell_type": "code",
      "metadata": {
        "id": "V-nLiNdsxz2X",
        "colab_type": "code",
        "outputId": "368b4217-87b4-4202-d63a-0debe09612c4",
        "colab": {
          "base_uri": "https://localhost:8080/",
          "height": 447
        }
      },
      "source": [
        "pupa.groupby(['Type', 'Executor']).aggregate({\"Salary\" : \"count\"})"
      ],
      "execution_count": 0,
      "outputs": [
        {
          "output_type": "execute_result",
          "data": {
            "text/html": [
              "<div>\n",
              "<style scoped>\n",
              "    .dataframe tbody tr th:only-of-type {\n",
              "        vertical-align: middle;\n",
              "    }\n",
              "\n",
              "    .dataframe tbody tr th {\n",
              "        vertical-align: top;\n",
              "    }\n",
              "\n",
              "    .dataframe thead th {\n",
              "        text-align: right;\n",
              "    }\n",
              "</style>\n",
              "<table border=\"1\" class=\"dataframe\">\n",
              "  <thead>\n",
              "    <tr style=\"text-align: right;\">\n",
              "      <th></th>\n",
              "      <th></th>\n",
              "      <th>Salary</th>\n",
              "    </tr>\n",
              "    <tr>\n",
              "      <th>Type</th>\n",
              "      <th>Executor</th>\n",
              "      <th></th>\n",
              "    </tr>\n",
              "  </thead>\n",
              "  <tbody>\n",
              "    <tr>\n",
              "      <th rowspan=\"2\" valign=\"top\">A</th>\n",
              "      <th>Loopa</th>\n",
              "      <td>1</td>\n",
              "    </tr>\n",
              "    <tr>\n",
              "      <th>Pupa</th>\n",
              "      <td>6</td>\n",
              "    </tr>\n",
              "    <tr>\n",
              "      <th rowspan=\"2\" valign=\"top\">B</th>\n",
              "      <th>Loopa</th>\n",
              "      <td>6</td>\n",
              "    </tr>\n",
              "    <tr>\n",
              "      <th>Pupa</th>\n",
              "      <td>1</td>\n",
              "    </tr>\n",
              "    <tr>\n",
              "      <th rowspan=\"2\" valign=\"top\">C</th>\n",
              "      <th>Loopa</th>\n",
              "      <td>6</td>\n",
              "    </tr>\n",
              "    <tr>\n",
              "      <th>Pupa</th>\n",
              "      <td>2</td>\n",
              "    </tr>\n",
              "    <tr>\n",
              "      <th rowspan=\"2\" valign=\"top\">D</th>\n",
              "      <th>Loopa</th>\n",
              "      <td>7</td>\n",
              "    </tr>\n",
              "    <tr>\n",
              "      <th>Pupa</th>\n",
              "      <td>4</td>\n",
              "    </tr>\n",
              "    <tr>\n",
              "      <th rowspan=\"2\" valign=\"top\">E</th>\n",
              "      <th>Loopa</th>\n",
              "      <td>6</td>\n",
              "    </tr>\n",
              "    <tr>\n",
              "      <th>Pupa</th>\n",
              "      <td>5</td>\n",
              "    </tr>\n",
              "    <tr>\n",
              "      <th rowspan=\"2\" valign=\"top\">F</th>\n",
              "      <th>Loopa</th>\n",
              "      <td>2</td>\n",
              "    </tr>\n",
              "    <tr>\n",
              "      <th>Pupa</th>\n",
              "      <td>4</td>\n",
              "    </tr>\n",
              "  </tbody>\n",
              "</table>\n",
              "</div>"
            ],
            "text/plain": [
              "               Salary\n",
              "Type Executor        \n",
              "A    Loopa          1\n",
              "     Pupa           6\n",
              "B    Loopa          6\n",
              "     Pupa           1\n",
              "C    Loopa          6\n",
              "     Pupa           2\n",
              "D    Loopa          7\n",
              "     Pupa           4\n",
              "E    Loopa          6\n",
              "     Pupa           5\n",
              "F    Loopa          2\n",
              "     Pupa           4"
            ]
          },
          "metadata": {
            "tags": []
          },
          "execution_count": 9
        }
      ]
    },
    {
      "cell_type": "markdown",
      "metadata": {
        "id": "GUK2tZxqy2iu",
        "colab_type": "text"
      },
      "source": [
        "1.6.3 Продолжим исследование героев Dota2. Сгруппируйте по колонкам attack_type и primary_attr и выберите самый распространённый набор характеристик."
      ]
    },
    {
      "cell_type": "code",
      "metadata": {
        "id": "wnDtCYUOzCcn",
        "colab_type": "code",
        "outputId": "2d9bbfb5-d196-4dc2-d5f8-e5b085df8a86",
        "colab": {
          "base_uri": "https://localhost:8080/",
          "height": 263
        }
      },
      "source": [
        "df.groupby(['attack_type', 'primary_attr']).aggregate({\"name\" : \"count\"})"
      ],
      "execution_count": 0,
      "outputs": [
        {
          "output_type": "execute_result",
          "data": {
            "text/html": [
              "<div>\n",
              "<style scoped>\n",
              "    .dataframe tbody tr th:only-of-type {\n",
              "        vertical-align: middle;\n",
              "    }\n",
              "\n",
              "    .dataframe tbody tr th {\n",
              "        vertical-align: top;\n",
              "    }\n",
              "\n",
              "    .dataframe thead th {\n",
              "        text-align: right;\n",
              "    }\n",
              "</style>\n",
              "<table border=\"1\" class=\"dataframe\">\n",
              "  <thead>\n",
              "    <tr style=\"text-align: right;\">\n",
              "      <th></th>\n",
              "      <th></th>\n",
              "      <th>name</th>\n",
              "    </tr>\n",
              "    <tr>\n",
              "      <th>attack_type</th>\n",
              "      <th>primary_attr</th>\n",
              "      <th></th>\n",
              "    </tr>\n",
              "  </thead>\n",
              "  <tbody>\n",
              "    <tr>\n",
              "      <th rowspan=\"3\" valign=\"top\">Melee</th>\n",
              "      <th>agi</th>\n",
              "      <td>19</td>\n",
              "    </tr>\n",
              "    <tr>\n",
              "      <th>int</th>\n",
              "      <td>2</td>\n",
              "    </tr>\n",
              "    <tr>\n",
              "      <th>str</th>\n",
              "      <td>35</td>\n",
              "    </tr>\n",
              "    <tr>\n",
              "      <th rowspan=\"3\" valign=\"top\">Ranged</th>\n",
              "      <th>agi</th>\n",
              "      <td>18</td>\n",
              "    </tr>\n",
              "    <tr>\n",
              "      <th>int</th>\n",
              "      <td>40</td>\n",
              "    </tr>\n",
              "    <tr>\n",
              "      <th>str</th>\n",
              "      <td>3</td>\n",
              "    </tr>\n",
              "  </tbody>\n",
              "</table>\n",
              "</div>"
            ],
            "text/plain": [
              "                          name\n",
              "attack_type primary_attr      \n",
              "Melee       agi             19\n",
              "            int              2\n",
              "            str             35\n",
              "Ranged      agi             18\n",
              "            int             40\n",
              "            str              3"
            ]
          },
          "metadata": {
            "tags": []
          },
          "execution_count": 14
        }
      ]
    },
    {
      "cell_type": "markdown",
      "metadata": {
        "id": "v77umUNRzopI",
        "colab_type": "text"
      },
      "source": [
        "1.6.4 Пользуясь предыдущими данными, укажите через пробел (без запятых) чему равны минимальная, средняя и максимальная концентрации аланина (alanin) среди видов рода Fucus. Округлите до 2-ого знака, десятичным разделителем является точка."
      ]
    },
    {
      "cell_type": "code",
      "metadata": {
        "id": "AABGdjgmzuj9",
        "colab_type": "code",
        "outputId": "4cf9d940-145b-40a6-fd60-a2181d91c899",
        "colab": {
          "base_uri": "https://localhost:8080/",
          "height": 202
        }
      },
      "source": [
        "fucus = pd.read_csv(\"http://stepik.org/media/attachments/course/4852/algae.csv\")\n",
        "fucus.head()"
      ],
      "execution_count": 0,
      "outputs": [
        {
          "output_type": "execute_result",
          "data": {
            "text/html": [
              "<div>\n",
              "<style scoped>\n",
              "    .dataframe tbody tr th:only-of-type {\n",
              "        vertical-align: middle;\n",
              "    }\n",
              "\n",
              "    .dataframe tbody tr th {\n",
              "        vertical-align: top;\n",
              "    }\n",
              "\n",
              "    .dataframe thead th {\n",
              "        text-align: right;\n",
              "    }\n",
              "</style>\n",
              "<table border=\"1\" class=\"dataframe\">\n",
              "  <thead>\n",
              "    <tr style=\"text-align: right;\">\n",
              "      <th></th>\n",
              "      <th>species</th>\n",
              "      <th>genus</th>\n",
              "      <th>group</th>\n",
              "      <th>sucrose</th>\n",
              "      <th>alanin</th>\n",
              "      <th>citrate</th>\n",
              "      <th>glucose</th>\n",
              "      <th>oleic_acid</th>\n",
              "    </tr>\n",
              "  </thead>\n",
              "  <tbody>\n",
              "    <tr>\n",
              "      <th>0</th>\n",
              "      <td>Fucus_vesiculosus</td>\n",
              "      <td>Fucus</td>\n",
              "      <td>brown</td>\n",
              "      <td>3.001472</td>\n",
              "      <td>3.711498</td>\n",
              "      <td>5.004262</td>\n",
              "      <td>2.548459</td>\n",
              "      <td>6.405165</td>\n",
              "    </tr>\n",
              "    <tr>\n",
              "      <th>1</th>\n",
              "      <td>Saccharina_japonica</td>\n",
              "      <td>Saccharina</td>\n",
              "      <td>brown</td>\n",
              "      <td>6.731070</td>\n",
              "      <td>1.255251</td>\n",
              "      <td>5.621499</td>\n",
              "      <td>6.013219</td>\n",
              "      <td>4.156700</td>\n",
              "    </tr>\n",
              "    <tr>\n",
              "      <th>2</th>\n",
              "      <td>Fucus_serratus</td>\n",
              "      <td>Fucus</td>\n",
              "      <td>brown</td>\n",
              "      <td>3.276870</td>\n",
              "      <td>0.346431</td>\n",
              "      <td>1.216767</td>\n",
              "      <td>3.623225</td>\n",
              "      <td>0.304573</td>\n",
              "    </tr>\n",
              "    <tr>\n",
              "      <th>3</th>\n",
              "      <td>Fucus_distichus</td>\n",
              "      <td>Fucus</td>\n",
              "      <td>brown</td>\n",
              "      <td>6.786996</td>\n",
              "      <td>6.641303</td>\n",
              "      <td>6.423606</td>\n",
              "      <td>2.272724</td>\n",
              "      <td>3.393203</td>\n",
              "    </tr>\n",
              "    <tr>\n",
              "      <th>4</th>\n",
              "      <td>Cladophora_fracta</td>\n",
              "      <td>Cladophora</td>\n",
              "      <td>green</td>\n",
              "      <td>3.861470</td>\n",
              "      <td>1.648450</td>\n",
              "      <td>6.940588</td>\n",
              "      <td>2.316955</td>\n",
              "      <td>2.528886</td>\n",
              "    </tr>\n",
              "  </tbody>\n",
              "</table>\n",
              "</div>"
            ],
            "text/plain": [
              "               species       genus  group  ...   citrate   glucose  oleic_acid\n",
              "0    Fucus_vesiculosus       Fucus  brown  ...  5.004262  2.548459    6.405165\n",
              "1  Saccharina_japonica  Saccharina  brown  ...  5.621499  6.013219    4.156700\n",
              "2       Fucus_serratus       Fucus  brown  ...  1.216767  3.623225    0.304573\n",
              "3      Fucus_distichus       Fucus  brown  ...  6.423606  2.272724    3.393203\n",
              "4    Cladophora_fracta  Cladophora  green  ...  6.940588  2.316955    2.528886\n",
              "\n",
              "[5 rows x 8 columns]"
            ]
          },
          "metadata": {
            "tags": []
          },
          "execution_count": 11
        }
      ]
    },
    {
      "cell_type": "code",
      "metadata": {
        "id": "2jiQ8ejg0SxJ",
        "colab_type": "code",
        "outputId": "5098ddcb-d867-4f17-e2f9-73f830af69fa",
        "colab": {
          "base_uri": "https://localhost:8080/",
          "height": 87
        }
      },
      "source": [
        "fucus.groupby('genus').agg(['min', 'mean', 'max']).loc['Fucus', 'alanin'].round(2)"
      ],
      "execution_count": 0,
      "outputs": [
        {
          "output_type": "execute_result",
          "data": {
            "text/plain": [
              "min     0.35\n",
              "mean    3.57\n",
              "max     6.64\n",
              "Name: Fucus, dtype: float64"
            ]
          },
          "metadata": {
            "tags": []
          },
          "execution_count": 12
        }
      ]
    },
    {
      "cell_type": "markdown",
      "metadata": {
        "id": "CE6yGI0B1QZU",
        "colab_type": "text"
      },
      "source": [
        "1.6.5 Сгруппируйте данные по переменной group и соотнесите вопросы с ответами"
      ]
    },
    {
      "cell_type": "code",
      "metadata": {
        "id": "d-f8-9ON1TCy",
        "colab_type": "code",
        "outputId": "e519c19b-6e20-4a7e-95e9-d48baa3a9aca",
        "colab": {
          "base_uri": "https://localhost:8080/",
          "height": 171
        }
      },
      "source": [
        "fucus.groupby('group') \\\n",
        "    .agg({'citrate': 'var', 'sucrose': lambda x: x.max() - x.min(), 'glucose': 'count'}) \\\n",
        "    .round(2)"
      ],
      "execution_count": 0,
      "outputs": [
        {
          "output_type": "execute_result",
          "data": {
            "text/html": [
              "<div>\n",
              "<style scoped>\n",
              "    .dataframe tbody tr th:only-of-type {\n",
              "        vertical-align: middle;\n",
              "    }\n",
              "\n",
              "    .dataframe tbody tr th {\n",
              "        vertical-align: top;\n",
              "    }\n",
              "\n",
              "    .dataframe thead th {\n",
              "        text-align: right;\n",
              "    }\n",
              "</style>\n",
              "<table border=\"1\" class=\"dataframe\">\n",
              "  <thead>\n",
              "    <tr style=\"text-align: right;\">\n",
              "      <th></th>\n",
              "      <th>citrate</th>\n",
              "      <th>sucrose</th>\n",
              "      <th>glucose</th>\n",
              "    </tr>\n",
              "    <tr>\n",
              "      <th>group</th>\n",
              "      <th></th>\n",
              "      <th></th>\n",
              "      <th></th>\n",
              "    </tr>\n",
              "  </thead>\n",
              "  <tbody>\n",
              "    <tr>\n",
              "      <th>brown</th>\n",
              "      <td>5.47</td>\n",
              "      <td>5.19</td>\n",
              "      <td>6</td>\n",
              "    </tr>\n",
              "    <tr>\n",
              "      <th>green</th>\n",
              "      <td>3.95</td>\n",
              "      <td>3.26</td>\n",
              "      <td>3</td>\n",
              "    </tr>\n",
              "    <tr>\n",
              "      <th>red</th>\n",
              "      <td>NaN</td>\n",
              "      <td>0.00</td>\n",
              "      <td>1</td>\n",
              "    </tr>\n",
              "  </tbody>\n",
              "</table>\n",
              "</div>"
            ],
            "text/plain": [
              "       citrate  sucrose  glucose\n",
              "group                           \n",
              "brown     5.47     5.19        6\n",
              "green     3.95     3.26        3\n",
              "red        NaN     0.00        1"
            ]
          },
          "metadata": {
            "tags": []
          },
          "execution_count": 15
        }
      ]
    },
    {
      "cell_type": "markdown",
      "metadata": {
        "id": "bYz7ED7y11vk",
        "colab_type": "text"
      },
      "source": [
        "Визуализация"
      ]
    },
    {
      "cell_type": "markdown",
      "metadata": {
        "id": "ATk4O7WG15W4",
        "colab_type": "text"
      },
      "source": [
        "1.7 Скачайте данные, представляющие геномные расстояния между видами, и постройте тепловую карту, чтобы различия было видно наглядно. В ответ впишите, какая картинка соответствует скачанным данным."
      ]
    },
    {
      "cell_type": "code",
      "metadata": {
        "id": "jvAEt8J12YpR",
        "colab_type": "code",
        "outputId": "cc86466b-2ef8-491e-af30-fe053ec01f81",
        "colab": {
          "base_uri": "https://localhost:8080/",
          "height": 299
        }
      },
      "source": [
        "s=pd.read_csv('https://stepik.org/media/attachments/course/4852/genome_matrix.csv',index_col=0)\n",
        "\n",
        "g=sns.heatmap(data=s, cmap='viridis')\n",
        "\n",
        "g.xaxis.set_ticks_position('top')\n",
        "g.xaxis.set_tick_params(rotation=90)"
      ],
      "execution_count": 0,
      "outputs": [
        {
          "output_type": "display_data",
          "data": {
            "image/png": "[encoded data removed]",
            "text/plain": [
              "<Figure size 432x288 with 2 Axes>"
            ]
          },
          "metadata": {
            "tags": []
          }
        }
      ]
    },
    {
      "cell_type": "markdown",
      "metadata": {
        "id": "W4HhSHna27jZ",
        "colab_type": "text"
      },
      "source": [
        "1.7.2 Пришло время узнать, какая роль в dota самая распространённая. Скачайте датасэт с данными о героях из игры dota 2 и посмотрите на распределение их возможных ролей в игре (колонка roles). Постройте гистограмму, отражающую скольким героям сколько ролей приписывается (по мнению Valve, конечно) и напишите какое число ролей у большинства героев."
      ]
    },
    {
      "cell_type": "code",
      "metadata": {
        "id": "vnnmLlkM3Q2O",
        "colab_type": "code",
        "outputId": "0635b16a-308b-480f-e9f3-6be9958f3c4a",
        "colab": {
          "base_uri": "https://localhost:8080/",
          "height": 52
        }
      },
      "source": [
        "# в pandas есть возможность поэлементной работы с текстом для Series через атрибут str\n",
        "df.roles.str.split(',').apply(len).mode()"
      ],
      "execution_count": 0,
      "outputs": [
        {
          "output_type": "execute_result",
          "data": {
            "text/plain": [
              "0    4\n",
              "dtype: int64"
            ]
          },
          "metadata": {
            "tags": []
          },
          "execution_count": 17
        }
      ]
    },
    {
      "cell_type": "markdown",
      "metadata": {
        "id": "A17BAQlK36AU",
        "colab_type": "text"
      },
      "source": [
        "1.7.3 Теперь перейдём к цветочкам. Магистрантка Адель решила изучить какие бывают ирисы. Помогите Адель узнать об ирисах больше - скачайте датасэт со значениями параметров ирисов, постройте их распределения и отметьте правильные утверждения, глядя на график."
      ]
    },
    {
      "cell_type": "code",
      "metadata": {
        "id": "kZgLIkpE8tfp",
        "colab_type": "code",
        "outputId": "efc4b09e-c1f6-4bd0-ba36-11e94e8904d5",
        "colab": {
          "base_uri": "https://localhost:8080/",
          "height": 202
        }
      },
      "source": [
        "flowers = pd.read_csv(\"https://stepik.org/media/attachments/course/4852/iris.csv\")\n",
        "flowers = flowers.rename(columns ={'sepal length': 'sepal_length','sepal width': 'sepal_width','petal length': 'petal_length', \"petal width\": \"petal_width\"})\n",
        "flowers.head()"
      ],
      "execution_count": 0,
      "outputs": [
        {
          "output_type": "execute_result",
          "data": {
            "text/html": [
              "<div>\n",
              "<style scoped>\n",
              "    .dataframe tbody tr th:only-of-type {\n",
              "        vertical-align: middle;\n",
              "    }\n",
              "\n",
              "    .dataframe tbody tr th {\n",
              "        vertical-align: top;\n",
              "    }\n",
              "\n",
              "    .dataframe thead th {\n",
              "        text-align: right;\n",
              "    }\n",
              "</style>\n",
              "<table border=\"1\" class=\"dataframe\">\n",
              "  <thead>\n",
              "    <tr style=\"text-align: right;\">\n",
              "      <th></th>\n",
              "      <th>Unnamed: 0</th>\n",
              "      <th>sepal_length</th>\n",
              "      <th>sepal_width</th>\n",
              "      <th>petal_length</th>\n",
              "      <th>petal_width</th>\n",
              "      <th>species</th>\n",
              "    </tr>\n",
              "  </thead>\n",
              "  <tbody>\n",
              "    <tr>\n",
              "      <th>0</th>\n",
              "      <td>0</td>\n",
              "      <td>5.1</td>\n",
              "      <td>3.5</td>\n",
              "      <td>1.4</td>\n",
              "      <td>0.2</td>\n",
              "      <td>0</td>\n",
              "    </tr>\n",
              "    <tr>\n",
              "      <th>1</th>\n",
              "      <td>1</td>\n",
              "      <td>4.9</td>\n",
              "      <td>3.0</td>\n",
              "      <td>1.4</td>\n",
              "      <td>0.2</td>\n",
              "      <td>0</td>\n",
              "    </tr>\n",
              "    <tr>\n",
              "      <th>2</th>\n",
              "      <td>2</td>\n",
              "      <td>4.7</td>\n",
              "      <td>3.2</td>\n",
              "      <td>1.3</td>\n",
              "      <td>0.2</td>\n",
              "      <td>0</td>\n",
              "    </tr>\n",
              "    <tr>\n",
              "      <th>3</th>\n",
              "      <td>3</td>\n",
              "      <td>4.6</td>\n",
              "      <td>3.1</td>\n",
              "      <td>1.5</td>\n",
              "      <td>0.2</td>\n",
              "      <td>0</td>\n",
              "    </tr>\n",
              "    <tr>\n",
              "      <th>4</th>\n",
              "      <td>4</td>\n",
              "      <td>5.0</td>\n",
              "      <td>3.6</td>\n",
              "      <td>1.4</td>\n",
              "      <td>0.2</td>\n",
              "      <td>0</td>\n",
              "    </tr>\n",
              "  </tbody>\n",
              "</table>\n",
              "</div>"
            ],
            "text/plain": [
              "   Unnamed: 0  sepal_length  sepal_width  petal_length  petal_width  species\n",
              "0           0           5.1          3.5           1.4          0.2        0\n",
              "1           1           4.9          3.0           1.4          0.2        0\n",
              "2           2           4.7          3.2           1.3          0.2        0\n",
              "3           3           4.6          3.1           1.5          0.2        0\n",
              "4           4           5.0          3.6           1.4          0.2        0"
            ]
          },
          "metadata": {
            "tags": []
          },
          "execution_count": 23
        }
      ]
    },
    {
      "cell_type": "code",
      "metadata": {
        "id": "k45eBGqFw5Kg",
        "colab_type": "code",
        "outputId": "bf54baba-b283-46c0-fa2c-174acbcfdc3d",
        "colab": {
          "base_uri": "https://localhost:8080/",
          "height": 297
        }
      },
      "source": [
        "column = flowers.petal_width\n",
        "sns.distplot(column)"
      ],
      "execution_count": 0,
      "outputs": [
        {
          "output_type": "execute_result",
          "data": {
            "text/plain": [
              "<matplotlib.axes._subplots.AxesSubplot at 0x7f9de811e898>"
            ]
          },
          "metadata": {
            "tags": []
          },
          "execution_count": 24
        },
        {
          "output_type": "display_data",
          "data": {
            "image/png": "[encoded data removed]",
            "text/plain": [
              "<Figure size 432x288 with 1 Axes>"
            ]
          },
          "metadata": {
            "tags": []
          }
        }
      ]
    },
    {
      "cell_type": "code",
      "metadata": {
        "id": "HXziIQjhw4TS",
        "colab_type": "code",
        "outputId": "d71e5146-4c60-4f2e-f92b-d01bfe071e29",
        "colab": {
          "base_uri": "https://localhost:8080/",
          "height": 297
        }
      },
      "source": [
        "column = flowers.sepal_width\n",
        "sns.distplot(column)"
      ],
      "execution_count": 0,
      "outputs": [
        {
          "output_type": "execute_result",
          "data": {
            "text/plain": [
              "<matplotlib.axes._subplots.AxesSubplot at 0x7f9e181d20b8>"
            ]
          },
          "metadata": {
            "tags": []
          },
          "execution_count": 25
        },
        {
          "output_type": "display_data",
          "data": {
            "image/png": "[encoded data removed]",
            "text/plain": [
              "<Figure size 432x288 with 1 Axes>"
            ]
          },
          "metadata": {
            "tags": []
          }
        }
      ]
    },
    {
      "cell_type": "markdown",
      "metadata": {
        "id": "7V0WhWkY6QbW",
        "colab_type": "text"
      },
      "source": [
        "1.7.4 Рассмотрим длину лепестков (petal length) подробнее и воспользуемся для этого violin плотом. Нарисуйте распределение длины лепестков ирисов из предыдущего датасэта с помощью violin плота и выберите правильный (такой же) вариант среди предложенных"
      ]
    },
    {
      "cell_type": "code",
      "metadata": {
        "id": "BIBwZzTYw45R",
        "colab_type": "code",
        "outputId": "11ead542-ffa1-48c9-f811-619766af0a0f",
        "colab": {
          "base_uri": "https://localhost:8080/",
          "height": 269
        }
      },
      "source": [
        "column = flowers.petal_length\n",
        "sns.violinplot(column, orient='v')"
      ],
      "execution_count": 0,
      "outputs": [
        {
          "output_type": "execute_result",
          "data": {
            "text/plain": [
              "<matplotlib.axes._subplots.AxesSubplot at 0x7f9de7f202e8>"
            ]
          },
          "metadata": {
            "tags": []
          },
          "execution_count": 26
        },
        {
          "output_type": "display_data",
          "data": {
            "image/png": "[encoded data removed]",
            "text/plain": [
              "<Figure size 432x288 with 1 Axes>"
            ]
          },
          "metadata": {
            "tags": []
          }
        }
      ]
    },
    {
      "cell_type": "markdown",
      "metadata": {
        "id": "6-TYuxVz6hOe",
        "colab_type": "text"
      },
      "source": [
        "1.7.5 Продолжаем изучение ирисов! Ещё один важный тип графиков - pairplot, отражающий зависимость пар переменных друг от друга, а также распределение каждой из переменных. Постройте его и посмотрите на scatter плоты для каждой из пар фичей. Какая из пар навскидку имеет наибольшую корреляцию?"
      ]
    },
    {
      "cell_type": "code",
      "metadata": {
        "id": "T_Li4nCs65j3",
        "colab_type": "code",
        "outputId": "69dd9eb9-f2b5-4aed-ae51-d863ea92f6e1",
        "colab": {
          "base_uri": "https://localhost:8080/",
          "height": 765
        }
      },
      "source": [
        "flowers = pd.read_csv('https://stepik.org/media/attachments/course/4852/iris.csv', index_col=0)\n",
        "sns.pairplot(flowers, vars=flowers.columns[:4], hue=\"species\")"
      ],
      "execution_count": 0,
      "outputs": [
        {
          "output_type": "execute_result",
          "data": {
            "text/plain": [
              "<seaborn.axisgrid.PairGrid at 0x7f9de7877358>"
            ]
          },
          "metadata": {
            "tags": []
          },
          "execution_count": 28
        },
        {
          "output_type": "display_data",
          "data": {
            "image/png": "[encoded data removed]",
            "text/plain": [
              "<Figure size 765.375x720 with 20 Axes>"
            ]
          },
          "metadata": {
            "tags": []
          }
        }
      ]
    }
  ]
}
