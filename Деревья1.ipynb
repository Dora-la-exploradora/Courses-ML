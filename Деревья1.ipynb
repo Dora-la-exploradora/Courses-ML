{
  "nbformat": 4,
  "nbformat_minor": 0,
  "metadata": {
    "colab": {
      "name": "Деревья1.ipynb",
      "provenance": [],
      "collapsed_sections": []
    },
    "kernelspec": {
      "name": "python3",
      "display_name": "Python 3"
    }
  },
  "cells": [
    {
      "cell_type": "code",
      "metadata": {
        "id": "gGyWsFtNxULn",
        "colab_type": "code",
        "colab": {}
      },
      "source": [
        "import pandas as pd\n",
        "import numpy as np\n",
        "%matplotlib inline\n",
        "import matplotlib.pyplot as plt\n",
        "import seaborn as sns"
      ],
      "execution_count": 0,
      "outputs": []
    },
    {
      "cell_type": "code",
      "metadata": {
        "id": "dRoveYFdpMc3",
        "colab_type": "code",
        "colab": {}
      },
      "source": [
        "from sklearn import tree"
      ],
      "execution_count": 0,
      "outputs": []
    },
    {
      "cell_type": "code",
      "metadata": {
        "id": "wZv7MYjGpaFx",
        "colab_type": "code",
        "colab": {}
      },
      "source": [
        "from sklearn.model_selection import train_test_split\n",
        "\n",
        "X_train, X_test, y_train, y_test = train_test_split(X, y, test_size = 0.33, random_state=42)"
      ],
      "execution_count": 0,
      "outputs": []
    },
    {
      "cell_type": "code",
      "metadata": {
        "id": "cRXA__EDogkW",
        "colab_type": "code",
        "outputId": "b177f85e-9f0d-4ba3-9451-11c9c059a415",
        "colab": {
          "base_uri": "https://localhost:8080/",
          "height": 34
        }
      },
      "source": [
        "clf =tree.DecisionTreeClassifier(criterion='entropy', max_depth=3, random_state=0)\n",
        "clf.fit(X, y)\n",
        "clf.score(X, y)"
      ],
      "execution_count": 0,
      "outputs": [
        {
          "output_type": "execute_result",
          "data": {
            "text/plain": [
              "0.99"
            ]
          },
          "metadata": {
            "tags": []
          },
          "execution_count": 20
        }
      ]
    },
    {
      "cell_type": "markdown",
      "metadata": {
        "id": "JKImvoMs_XWv",
        "colab_type": "text"
      },
      "source": [
        "**2.4.3** Скачайте тренировочный датасэт с ирисами, обучите деревья с глубиной от 1 до 100. Целевой переменной при обучении является переменная species. При этом записывайте его скор (DecisionTreeClassifier.score()) на тренировочных данных, и аккуратность предсказаний (accuracy_score) на тестовом датасэте. Затем визуализируйте зависимость скора и аккуратности предсказаний от глубины дерева и выберите правильную визуализацию из предложенных."
      ]
    },
    {
      "cell_type": "code",
      "metadata": {
        "id": "vqFwtNufjTS-",
        "colab_type": "code",
        "colab": {}
      },
      "source": [
        "petal_data = pd.read_csv(\"https://stepik.org/media/attachments/course/4852/train_iris.csv\",  index_col=0)\n",
        "iris_data = pd.read_csv('https://stepik.org/media/attachments/course/4852/test_iris.csv',  index_col=0)"
      ],
      "execution_count": 0,
      "outputs": []
    },
    {
      "cell_type": "code",
      "metadata": {
        "id": "Mhy16PL0pMqJ",
        "colab_type": "code",
        "colab": {}
      },
      "source": [
        "X_train = petal_data.drop(['species'], axis=1)\n",
        "y_train = petal_data.species\n",
        "X_test = iris_data.drop(['species'], axis=1)\n",
        "y_test = iris_data.species"
      ],
      "execution_count": 0,
      "outputs": []
    },
    {
      "cell_type": "code",
      "metadata": {
        "id": "Y4iKFp1EveP8",
        "colab_type": "code",
        "colab": {}
      },
      "source": [
        "rs = np.random.seed(0) \n",
        "max_depth_values = range(1, 100)\n",
        "scores_data = pd.DataFrame()\n",
        "\n",
        "for max_depth in max_depth_values:\n",
        "  clf =tree.DecisionTreeClassifier(criterion='entropy', max_depth=max_depth, random_state=rs)\n",
        "  clf.fit(X_train, y_train)\n",
        "  train_score = clf.score(X_train, y_train)\n",
        "  test_score = clf.score(X_test, y_test)\n",
        "  \n",
        "  temp_score_data = pd.DataFrame({'max_depth': [max_depth],'train_score': [train_score], 'test_score': [test_score]})\n",
        "  scores_data = scores_data.append(temp_score_data, sort=True)"
      ],
      "execution_count": 0,
      "outputs": []
    },
    {
      "cell_type": "code",
      "metadata": {
        "id": "Fw3L-0ah3JtW",
        "colab_type": "code",
        "outputId": "435af91a-b5a0-4cb2-a0dc-4bf3fbdd183c",
        "colab": {
          "base_uri": "https://localhost:8080/",
          "height": 206
        }
      },
      "source": [
        "scores_data_long = pd.melt(scores_data, id_vars=['max_depth'], value_vars=['train_score', 'test_score'], var_name='set_type', value_name = 'score' )\n",
        "scores_data_long.head()"
      ],
      "execution_count": 0,
      "outputs": [
        {
          "output_type": "execute_result",
          "data": {
            "text/html": [
              "<div>\n",
              "<style scoped>\n",
              "    .dataframe tbody tr th:only-of-type {\n",
              "        vertical-align: middle;\n",
              "    }\n",
              "\n",
              "    .dataframe tbody tr th {\n",
              "        vertical-align: top;\n",
              "    }\n",
              "\n",
              "    .dataframe thead th {\n",
              "        text-align: right;\n",
              "    }\n",
              "</style>\n",
              "<table border=\"1\" class=\"dataframe\">\n",
              "  <thead>\n",
              "    <tr style=\"text-align: right;\">\n",
              "      <th></th>\n",
              "      <th>max_depth</th>\n",
              "      <th>set_type</th>\n",
              "      <th>score</th>\n",
              "    </tr>\n",
              "  </thead>\n",
              "  <tbody>\n",
              "    <tr>\n",
              "      <th>0</th>\n",
              "      <td>1</td>\n",
              "      <td>train_score</td>\n",
              "      <td>0.70</td>\n",
              "    </tr>\n",
              "    <tr>\n",
              "      <th>1</th>\n",
              "      <td>2</td>\n",
              "      <td>train_score</td>\n",
              "      <td>0.97</td>\n",
              "    </tr>\n",
              "    <tr>\n",
              "      <th>2</th>\n",
              "      <td>3</td>\n",
              "      <td>train_score</td>\n",
              "      <td>0.99</td>\n",
              "    </tr>\n",
              "    <tr>\n",
              "      <th>3</th>\n",
              "      <td>4</td>\n",
              "      <td>train_score</td>\n",
              "      <td>1.00</td>\n",
              "    </tr>\n",
              "    <tr>\n",
              "      <th>4</th>\n",
              "      <td>5</td>\n",
              "      <td>train_score</td>\n",
              "      <td>1.00</td>\n",
              "    </tr>\n",
              "  </tbody>\n",
              "</table>\n",
              "</div>"
            ],
            "text/plain": [
              "   max_depth     set_type  score\n",
              "0          1  train_score   0.70\n",
              "1          2  train_score   0.97\n",
              "2          3  train_score   0.99\n",
              "3          4  train_score   1.00\n",
              "4          5  train_score   1.00"
            ]
          },
          "metadata": {
            "tags": []
          },
          "execution_count": 27
        }
      ]
    },
    {
      "cell_type": "code",
      "metadata": {
        "id": "ZhywapU02n_-",
        "colab_type": "code",
        "outputId": "bac7d355-b392-4565-9703-01dbdefa6c38",
        "colab": {
          "base_uri": "https://localhost:8080/",
          "height": 301
        }
      },
      "source": [
        "sns.lineplot(x='max_depth', y='score', hue='set_type', data=scores_data_long)"
      ],
      "execution_count": 0,
      "outputs": [
        {
          "output_type": "execute_result",
          "data": {
            "text/plain": [
              "<matplotlib.axes._subplots.AxesSubplot at 0x7fbdec24d208>"
            ]
          },
          "metadata": {
            "tags": []
          },
          "execution_count": 28
        },
        {
          "output_type": "display_data",
          "data": {
            "image/png": "[encoded data removed]",
            "text/plain": [
              "<Figure size 432x288 with 1 Axes>"
            ]
          },
          "metadata": {
            "tags": []
          }
        }
      ]
    },
    {
      "cell_type": "markdown",
      "metadata": {
        "id": "VD50op8u__K0",
        "colab_type": "text"
      },
      "source": [
        "**2.4.4** Скачайте тренировочный датасэт и  обучите на нём Decision Tree. После этого скачайте датасэт из задания и предскажите какие наблюдения к кому относятся. Введите число собачек в вашем датасэте."
      ]
    },
    {
      "cell_type": "code",
      "metadata": {
        "id": "46pQ6N1oRLQz",
        "colab_type": "code",
        "colab": {}
      },
      "source": [
        "from sklearn.model_selection import cross_val_score"
      ],
      "execution_count": 0,
      "outputs": []
    },
    {
      "cell_type": "code",
      "metadata": {
        "id": "cF1iCsXHUpOO",
        "colab_type": "code",
        "outputId": "210f96a1-e41a-41fd-da60-2126cb116210",
        "colab": {
          "base_uri": "https://localhost:8080/",
          "height": 143
        }
      },
      "source": [
        "train_data = pd.read_csv(\"https://stepik.org/media/attachments/course/4852/dogs_n_cats.csv\")\n",
        "train_data.head(3)"
      ],
      "execution_count": 0,
      "outputs": [
        {
          "output_type": "execute_result",
          "data": {
            "text/html": [
              "<div>\n",
              "<style scoped>\n",
              "    .dataframe tbody tr th:only-of-type {\n",
              "        vertical-align: middle;\n",
              "    }\n",
              "\n",
              "    .dataframe tbody tr th {\n",
              "        vertical-align: top;\n",
              "    }\n",
              "\n",
              "    .dataframe thead th {\n",
              "        text-align: right;\n",
              "    }\n",
              "</style>\n",
              "<table border=\"1\" class=\"dataframe\">\n",
              "  <thead>\n",
              "    <tr style=\"text-align: right;\">\n",
              "      <th></th>\n",
              "      <th>Длина</th>\n",
              "      <th>Высота</th>\n",
              "      <th>Шерстист</th>\n",
              "      <th>Гавкает</th>\n",
              "      <th>Лазает по деревьям</th>\n",
              "      <th>Вид</th>\n",
              "    </tr>\n",
              "  </thead>\n",
              "  <tbody>\n",
              "    <tr>\n",
              "      <th>0</th>\n",
              "      <td>15</td>\n",
              "      <td>18.0</td>\n",
              "      <td>1</td>\n",
              "      <td>1</td>\n",
              "      <td>0</td>\n",
              "      <td>собачка</td>\n",
              "    </tr>\n",
              "    <tr>\n",
              "      <th>1</th>\n",
              "      <td>20</td>\n",
              "      <td>24.0</td>\n",
              "      <td>1</td>\n",
              "      <td>0</td>\n",
              "      <td>0</td>\n",
              "      <td>собачка</td>\n",
              "    </tr>\n",
              "    <tr>\n",
              "      <th>2</th>\n",
              "      <td>34</td>\n",
              "      <td>40.8</td>\n",
              "      <td>1</td>\n",
              "      <td>1</td>\n",
              "      <td>0</td>\n",
              "      <td>собачка</td>\n",
              "    </tr>\n",
              "  </tbody>\n",
              "</table>\n",
              "</div>"
            ],
            "text/plain": [
              "   Длина  Высота  Шерстист  Гавкает  Лазает по деревьям      Вид\n",
              "0     15    18.0         1        1                   0  собачка\n",
              "1     20    24.0         1        0                   0  собачка\n",
              "2     34    40.8         1        1                   0  собачка"
            ]
          },
          "metadata": {
            "tags": []
          },
          "execution_count": 10
        }
      ]
    },
    {
      "cell_type": "code",
      "metadata": {
        "id": "6WbCAjbRdlgj",
        "colab_type": "code",
        "outputId": "30dd93df-688f-45aa-f744-2c4c99be10f1",
        "colab": {
          "base_uri": "https://localhost:8080/",
          "height": 143
        }
      },
      "source": [
        "train_data.groupby('Вид').count()"
      ],
      "execution_count": 0,
      "outputs": [
        {
          "output_type": "execute_result",
          "data": {
            "text/html": [
              "<div>\n",
              "<style scoped>\n",
              "    .dataframe tbody tr th:only-of-type {\n",
              "        vertical-align: middle;\n",
              "    }\n",
              "\n",
              "    .dataframe tbody tr th {\n",
              "        vertical-align: top;\n",
              "    }\n",
              "\n",
              "    .dataframe thead th {\n",
              "        text-align: right;\n",
              "    }\n",
              "</style>\n",
              "<table border=\"1\" class=\"dataframe\">\n",
              "  <thead>\n",
              "    <tr style=\"text-align: right;\">\n",
              "      <th></th>\n",
              "      <th>Длина</th>\n",
              "      <th>Высота</th>\n",
              "      <th>Шерстист</th>\n",
              "      <th>Гавкает</th>\n",
              "      <th>Лазает по деревьям</th>\n",
              "    </tr>\n",
              "    <tr>\n",
              "      <th>Вид</th>\n",
              "      <th></th>\n",
              "      <th></th>\n",
              "      <th></th>\n",
              "      <th></th>\n",
              "      <th></th>\n",
              "    </tr>\n",
              "  </thead>\n",
              "  <tbody>\n",
              "    <tr>\n",
              "      <th>котик</th>\n",
              "      <td>500</td>\n",
              "      <td>500</td>\n",
              "      <td>500</td>\n",
              "      <td>500</td>\n",
              "      <td>500</td>\n",
              "    </tr>\n",
              "    <tr>\n",
              "      <th>собачка</th>\n",
              "      <td>500</td>\n",
              "      <td>500</td>\n",
              "      <td>500</td>\n",
              "      <td>500</td>\n",
              "      <td>500</td>\n",
              "    </tr>\n",
              "  </tbody>\n",
              "</table>\n",
              "</div>"
            ],
            "text/plain": [
              "         Длина  Высота  Шерстист  Гавкает  Лазает по деревьям\n",
              "Вид                                                          \n",
              "котик      500     500       500      500                 500\n",
              "собачка    500     500       500      500                 500"
            ]
          },
          "metadata": {
            "tags": []
          },
          "execution_count": 11
        }
      ]
    },
    {
      "cell_type": "code",
      "metadata": {
        "id": "wVCAVZnK_y7Y",
        "colab_type": "code",
        "colab": {}
      },
      "source": [
        "\n",
        "X = train_data.drop('Вид', axis=1)\n",
        "y = train_data.Вид\n",
        "X_train, X_test, y_train, y_test = train_test_split(X, y, test_size = 0.5, random_state=42)\n",
        "\n",
        "\n",
        "rs = np.random.seed(0) \n",
        "max_depth_values = range(1, 100)\n",
        "scores_data = pd.DataFrame()\n",
        "\n",
        "for max_depth in max_depth_values:\n",
        "  clf =tree.DecisionTreeClassifier(criterion='entropy', max_depth=max_depth, random_state=rs)\n",
        "  clf.fit(X_train, y_train)\n",
        "  train_score = clf.score(X_train, y_train)\n",
        "  test_score = clf.score(X_test, y_test)\n",
        "  mean_cross_val_score = cross_val_score(clf, X_train, y_train, cv=5).mean()\n",
        "  \n",
        "  temp_score_data = pd.DataFrame({'max_depth': [max_depth],'train_score': [train_score], 'test_score': [test_score], 'cross_val_score': [mean_cross_val_score]})\n",
        "  scores_data = scores_data.append(temp_score_data, sort=True)"
      ],
      "execution_count": 0,
      "outputs": []
    },
    {
      "cell_type": "code",
      "metadata": {
        "id": "Wwr4KcczVUHa",
        "colab_type": "code",
        "outputId": "be24ac2a-61e4-4df4-8fce-563cdcda57aa",
        "colab": {
          "base_uri": "https://localhost:8080/",
          "height": 206
        }
      },
      "source": [
        "scores_data_long = pd.melt(scores_data, id_vars=['max_depth'], value_vars=['train_score', 'test_score', 'cross_val_score'], var_name='set_type', value_name = 'score' )\n",
        "scores_data_long.head()"
      ],
      "execution_count": 0,
      "outputs": [
        {
          "output_type": "execute_result",
          "data": {
            "text/html": [
              "<div>\n",
              "<style scoped>\n",
              "    .dataframe tbody tr th:only-of-type {\n",
              "        vertical-align: middle;\n",
              "    }\n",
              "\n",
              "    .dataframe tbody tr th {\n",
              "        vertical-align: top;\n",
              "    }\n",
              "\n",
              "    .dataframe thead th {\n",
              "        text-align: right;\n",
              "    }\n",
              "</style>\n",
              "<table border=\"1\" class=\"dataframe\">\n",
              "  <thead>\n",
              "    <tr style=\"text-align: right;\">\n",
              "      <th></th>\n",
              "      <th>max_depth</th>\n",
              "      <th>set_type</th>\n",
              "      <th>score</th>\n",
              "    </tr>\n",
              "  </thead>\n",
              "  <tbody>\n",
              "    <tr>\n",
              "      <th>0</th>\n",
              "      <td>1</td>\n",
              "      <td>train_score</td>\n",
              "      <td>1.0</td>\n",
              "    </tr>\n",
              "    <tr>\n",
              "      <th>1</th>\n",
              "      <td>2</td>\n",
              "      <td>train_score</td>\n",
              "      <td>1.0</td>\n",
              "    </tr>\n",
              "    <tr>\n",
              "      <th>2</th>\n",
              "      <td>3</td>\n",
              "      <td>train_score</td>\n",
              "      <td>1.0</td>\n",
              "    </tr>\n",
              "    <tr>\n",
              "      <th>3</th>\n",
              "      <td>4</td>\n",
              "      <td>train_score</td>\n",
              "      <td>1.0</td>\n",
              "    </tr>\n",
              "    <tr>\n",
              "      <th>4</th>\n",
              "      <td>5</td>\n",
              "      <td>train_score</td>\n",
              "      <td>1.0</td>\n",
              "    </tr>\n",
              "  </tbody>\n",
              "</table>\n",
              "</div>"
            ],
            "text/plain": [
              "   max_depth     set_type  score\n",
              "0          1  train_score    1.0\n",
              "1          2  train_score    1.0\n",
              "2          3  train_score    1.0\n",
              "3          4  train_score    1.0\n",
              "4          5  train_score    1.0"
            ]
          },
          "metadata": {
            "tags": []
          },
          "execution_count": 13
        }
      ]
    },
    {
      "cell_type": "code",
      "metadata": {
        "id": "692OpjlBVc8y",
        "colab_type": "code",
        "colab": {}
      },
      "source": [
        "sns.lineplot(x='max_depth', y='score', hue='set_type', data=scores_data_long)"
      ],
      "execution_count": 0,
      "outputs": []
    },
    {
      "cell_type": "code",
      "metadata": {
        "id": "KEblfMlJAoEg",
        "colab_type": "code",
        "colab": {}
      },
      "source": [
        "df_test = pd.read_json('/content/dataset_209691_15.txt')\n",
        "\n",
        "neworder = ['Длина', 'Высота', 'Шерстист', 'Гавкает', 'Лазает по деревьям']\n",
        "df_test_new = df_test.reindex(columns = neworder)\n",
        "df_test_new.head()"
      ],
      "execution_count": 0,
      "outputs": []
    },
    {
      "cell_type": "code",
      "metadata": {
        "id": "URUZiy8MfkDI",
        "colab_type": "code",
        "outputId": "cabc4ba1-21b1-4c63-ec42-cad5147e00d1",
        "colab": {
          "base_uri": "https://localhost:8080/",
          "height": 34
        }
      },
      "source": [
        "predictions = clf.predict(df_test_new)\n",
        "l = list(predictions)\n",
        "l.count('собачка')"
      ],
      "execution_count": 0,
      "outputs": [
        {
          "output_type": "execute_result",
          "data": {
            "text/plain": [
              "41"
            ]
          },
          "metadata": {
            "tags": []
          },
          "execution_count": 31
        }
      ]
    },
    {
      "cell_type": "markdown",
      "metadata": {
        "id": "qDb1X1u_vnFE",
        "colab_type": "text"
      },
      "source": [
        "**2.5** Исходно в датасэтах содержались тексты песен, но Decision Tree работает с категориальными и числовыми переменными, а текст это... текст. Поэтому его необходимо преобразовать в понятную для модели форму. В данном случае для каждой песни просто посчитаны длина и количество некоторых знаков пунктуации.\n",
        "\n",
        "Обучите модель на тренировочных данных, предскажите авторов для тестовых и поместите в переменную predictions. Затем посчитайте precision score на предсказаниях и y_test, укажите параметр average='micro', и сохраните результат в переменную precision."
      ]
    },
    {
      "cell_type": "code",
      "metadata": {
        "id": "oOgeYuzP5tA4",
        "colab_type": "code",
        "colab": {}
      },
      "source": [
        "import pandas as pd\n",
        "from sklearn.tree import DecisionTreeClassifier\n",
        "from sklearn.metrics import precision_score\n",
        "from sklearn.model_selection import GridSearchCV\n",
        "from sklearn import tree"
      ],
      "execution_count": 0,
      "outputs": []
    },
    {
      "cell_type": "code",
      "metadata": {
        "id": "rc_HgDbVB05y",
        "colab_type": "code",
        "outputId": "730e4510-d636-4a66-c83d-01c0973b080f",
        "colab": {
          "base_uri": "https://localhost:8080/",
          "height": 202
        }
      },
      "source": [
        "df_test = pd.read_csv('https://stepik.org/media/attachments/course/4852/songs.csv')\n",
        "X = df_test.drop('artist', axis=1)\n",
        "y = df_test.artist\n",
        "X_train, X_test, y_train, y_test = train_test_split(X, y, test_size = 0.5, random_state=42)\n",
        "X1, X2, y1, y2 = train_test_split(X_train, y_train, test_size = 0.5, random_state=42)\n",
        "df_test.head()"
      ],
      "execution_count": 0,
      "outputs": [
        {
          "output_type": "execute_result",
          "data": {
            "text/html": [
              "<div>\n",
              "<style scoped>\n",
              "    .dataframe tbody tr th:only-of-type {\n",
              "        vertical-align: middle;\n",
              "    }\n",
              "\n",
              "    .dataframe tbody tr th {\n",
              "        vertical-align: top;\n",
              "    }\n",
              "\n",
              "    .dataframe thead th {\n",
              "        text-align: right;\n",
              "    }\n",
              "</style>\n",
              "<table border=\"1\" class=\"dataframe\">\n",
              "  <thead>\n",
              "    <tr style=\"text-align: right;\">\n",
              "      <th></th>\n",
              "      <th>song</th>\n",
              "      <th>year</th>\n",
              "      <th>artist</th>\n",
              "      <th>genre</th>\n",
              "      <th>lyrics</th>\n",
              "      <th>length</th>\n",
              "      <th>commas</th>\n",
              "      <th>exclamations</th>\n",
              "      <th>colons</th>\n",
              "      <th>hyphens</th>\n",
              "    </tr>\n",
              "  </thead>\n",
              "  <tbody>\n",
              "    <tr>\n",
              "      <th>0</th>\n",
              "      <td>the-ownerz</td>\n",
              "      <td>2007</td>\n",
              "      <td>gangstarr</td>\n",
              "      <td>Hip-Hop</td>\n",
              "      <td>\"One-two..\"\\n\"One-two, shots to the chin.. kno...</td>\n",
              "      <td>1300</td>\n",
              "      <td>24</td>\n",
              "      <td>5</td>\n",
              "      <td>0</td>\n",
              "      <td>11</td>\n",
              "    </tr>\n",
              "    <tr>\n",
              "      <th>1</th>\n",
              "      <td>dead-sound-of-misery</td>\n",
              "      <td>2006</td>\n",
              "      <td>blind-guardian</td>\n",
              "      <td>Metal</td>\n",
              "      <td>It's dark\\nLet's do it now\\nBring in the siren...</td>\n",
              "      <td>1566</td>\n",
              "      <td>0</td>\n",
              "      <td>0</td>\n",
              "      <td>0</td>\n",
              "      <td>0</td>\n",
              "    </tr>\n",
              "    <tr>\n",
              "      <th>2</th>\n",
              "      <td>modred-s-song</td>\n",
              "      <td>2006</td>\n",
              "      <td>blind-guardian</td>\n",
              "      <td>Metal</td>\n",
              "      <td>I've lost my battle before it starts\\nmy first...</td>\n",
              "      <td>996</td>\n",
              "      <td>1</td>\n",
              "      <td>0</td>\n",
              "      <td>1</td>\n",
              "      <td>0</td>\n",
              "    </tr>\n",
              "    <tr>\n",
              "      <th>3</th>\n",
              "      <td>the-ninth-wave</td>\n",
              "      <td>2015</td>\n",
              "      <td>blind-guardian</td>\n",
              "      <td>Metal</td>\n",
              "      <td>As dark night embraces\\nWe are the nation\\nI w...</td>\n",
              "      <td>2868</td>\n",
              "      <td>5</td>\n",
              "      <td>0</td>\n",
              "      <td>0</td>\n",
              "      <td>0</td>\n",
              "    </tr>\n",
              "    <tr>\n",
              "      <th>4</th>\n",
              "      <td>skills</td>\n",
              "      <td>2014</td>\n",
              "      <td>gangstarr</td>\n",
              "      <td>Hip-Hop</td>\n",
              "      <td>Skills, skills, skills\\n\"My Microphone\"\\n\"It's...</td>\n",
              "      <td>3351</td>\n",
              "      <td>22</td>\n",
              "      <td>0</td>\n",
              "      <td>0</td>\n",
              "      <td>3</td>\n",
              "    </tr>\n",
              "  </tbody>\n",
              "</table>\n",
              "</div>"
            ],
            "text/plain": [
              "                   song  year          artist  ... exclamations colons  hyphens\n",
              "0            the-ownerz  2007       gangstarr  ...            5      0       11\n",
              "1  dead-sound-of-misery  2006  blind-guardian  ...            0      0        0\n",
              "2         modred-s-song  2006  blind-guardian  ...            0      1        0\n",
              "3        the-ninth-wave  2015  blind-guardian  ...            0      0        0\n",
              "4                skills  2014       gangstarr  ...            0      0        3\n",
              "\n",
              "[5 rows x 10 columns]"
            ]
          },
          "metadata": {
            "tags": []
          },
          "execution_count": 26
        }
      ]
    },
    {
      "cell_type": "code",
      "metadata": {
        "id": "py2hL-wy0eZT",
        "colab_type": "code",
        "colab": {}
      },
      "source": [
        "clf = tree.DecisionTreeClassifier()\n",
        "parametrs = {'criterion': ['gini', 'entropy'], 'max_depth': range(1, 150)}\n",
        "grid_search_cv_clf = GridSearchCV(clf, parametrs,cv=10)\n",
        "grid_search_cv_clf.fit(X_train, y_train)\n",
        "grid_search_cv_clf.best_params_\n",
        "\n",
        "best_clf = grid_search_cv_clf.best_estimator_\n",
        "predictions = best_clf.predict(X_test)\n",
        "precision = precision_score(y_test, predictions, average='micro')"
      ],
      "execution_count": 0,
      "outputs": []
    },
    {
      "cell_type": "code",
      "metadata": {
        "id": "-JoD-ViJwbYH",
        "colab_type": "code",
        "colab": {}
      },
      "source": [
        "# пробная версия\n",
        "from sklearn.model_selection import train_test_split\n",
        "from sklearn.model_selection import cross_val_score\n",
        "X1, X2, y1, y2 = train_test_split(X_train, y_train, test_size = 0.5, random_state=42)\n",
        "\n",
        "rs = np.random.seed(0) \n",
        "max_depth_values = range(1, 100)\n",
        "scores_data = pd.DataFrame()\n",
        "\n",
        "for max_depth in max_depth_values:\n",
        "  clf = tree.DecisionTreeClassifier(criterion='entropy', max_depth=max_depth, random_state=rs)\n",
        "  clf.fit(X1, y1)\n",
        "  train_score = clf.score(X1, y1)\n",
        "  test_score = clf.score(X2, y2)\n",
        "  mean_cross_val_score = cross_val_score(clf, X1, y1, cv=5).mean()\n",
        "  \n",
        "  temp_score_data = pd.DataFrame({'max_depth': [max_depth],'train_score': [train_score], 'test_score': [test_score], 'cross_val_score': [mean_cross_val_score]})\n",
        "  scores_data = scores_data.append(temp_score_data)\n",
        "\n",
        "scores_data_long = pd.melt(scores_data, id_vars=['max_depth'], value_vars=['train_score', 'test_score', 'cross_val_score'], var_name='set_type', value_name = 'score' )\n",
        "\n",
        "predictions = clf.predict(X_test)\n",
        "precision = precision_score(y_test, predictions, average='micro') "
      ],
      "execution_count": 0,
      "outputs": []
    }
  ]
}