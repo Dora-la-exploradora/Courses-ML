{
  "nbformat": 4,
  "nbformat_minor": 0,
  "metadata": {
    "colab": {
      "name": "Введение2.ipynb",
      "provenance": [],
      "collapsed_sections": []
    },
    "kernelspec": {
      "name": "python3",
      "display_name": "Python 3"
    }
  },
  "cells": [
    {
      "cell_type": "code",
      "metadata": {
        "id": "evqiwi2PLbuQ",
        "colab_type": "code",
        "colab": {}
      },
      "source": [
        "import pandas as pd\n",
        "import numpy as np\n",
        "%matplotlib inline\n",
        "import matplotlib.pyplot as plt\n",
        "import seaborn as sns"
      ],
      "execution_count": 0,
      "outputs": []
    },
    {
      "cell_type": "markdown",
      "metadata": {
        "id": "3zoCwBOXWttP",
        "colab_type": "text"
      },
      "source": [
        "Раздел практики"
      ]
    },
    {
      "cell_type": "markdown",
      "metadata": {
        "id": "x06t5jXPuQvH",
        "colab_type": "text"
      },
      "source": [
        "1.8.1 Любым удобным для вас способом создайте dataframe c именем my_data, в котором две колонки c именами (type - строки, value - целые числа) и четыре наблюдения в каждой колонке:"
      ]
    },
    {
      "cell_type": "code",
      "metadata": {
        "id": "_C1Kajg071rw",
        "colab_type": "code",
        "outputId": "2d9425d4-fa9e-4c11-e1d6-3b784fc7c91c",
        "colab": {
          "base_uri": "https://localhost:8080/",
          "height": 171
        }
      },
      "source": [
        "my_data = pd.DataFrame({\"type\": list(\"AABB\"), \"value\": [10, 14, 12, 23]})\n",
        "my_data"
      ],
      "execution_count": 0,
      "outputs": [
        {
          "output_type": "execute_result",
          "data": {
            "text/html": [
              "<div>\n",
              "<style scoped>\n",
              "    .dataframe tbody tr th:only-of-type {\n",
              "        vertical-align: middle;\n",
              "    }\n",
              "\n",
              "    .dataframe tbody tr th {\n",
              "        vertical-align: top;\n",
              "    }\n",
              "\n",
              "    .dataframe thead th {\n",
              "        text-align: right;\n",
              "    }\n",
              "</style>\n",
              "<table border=\"1\" class=\"dataframe\">\n",
              "  <thead>\n",
              "    <tr style=\"text-align: right;\">\n",
              "      <th></th>\n",
              "      <th>type</th>\n",
              "      <th>value</th>\n",
              "    </tr>\n",
              "  </thead>\n",
              "  <tbody>\n",
              "    <tr>\n",
              "      <th>0</th>\n",
              "      <td>A</td>\n",
              "      <td>10</td>\n",
              "    </tr>\n",
              "    <tr>\n",
              "      <th>1</th>\n",
              "      <td>A</td>\n",
              "      <td>14</td>\n",
              "    </tr>\n",
              "    <tr>\n",
              "      <th>2</th>\n",
              "      <td>B</td>\n",
              "      <td>12</td>\n",
              "    </tr>\n",
              "    <tr>\n",
              "      <th>3</th>\n",
              "      <td>B</td>\n",
              "      <td>23</td>\n",
              "    </tr>\n",
              "  </tbody>\n",
              "</table>\n",
              "</div>"
            ],
            "text/plain": [
              "  type  value\n",
              "0    A     10\n",
              "1    A     14\n",
              "2    B     12\n",
              "3    B     23"
            ]
          },
          "metadata": {
            "tags": []
          },
          "execution_count": 2
        }
      ]
    },
    {
      "cell_type": "markdown",
      "metadata": {
        "id": "ZtnxS0JlPFeX",
        "colab_type": "text"
      },
      "source": [
        "1.8.2 Особенно важный навык при работе с данными - это умение быстро и эффективно отбирать нужные вам колонки или строки.\n",
        "\n",
        "Начнем с простого, в dataframe с именем my_stat сохранено 20 строк и четыре колонки (V1, V2, V3, V4):\n",
        "\n",
        "В переменную с именем subset_1 сохраните только первые 10 строк и только 1 и 3 колонку.\n",
        "В переменную с именем subset_2 сохраните все строки кроме 1 и 5 и только 2 и 4 колонку."
      ]
    },
    {
      "cell_type": "code",
      "metadata": {
        "id": "BVXo0eGWPaSG",
        "colab_type": "code",
        "colab": {}
      },
      "source": [
        "# переменная my_stat уже создана\n",
        "subset_1 = my_stat.iloc[0:10, [0,2]]\n",
        "subset_2 = my_stat.drop([0,4]).iloc[:, [1,3]]"
      ],
      "execution_count": 0,
      "outputs": []
    },
    {
      "cell_type": "markdown",
      "metadata": {
        "id": "m-RKNJh3PlFz",
        "colab_type": "text"
      },
      "source": [
        "1.8.3 Теперь потренируемся отбирать нужные нам наблюдения (строки), соответствующие некому условию. В dataframe с именем my_stat четыре колонки V1, V2, V3, V4:\n",
        "\n",
        "В переменную subset_1 сохраните только те наблюдения, у которых значения переменной V1  строго больше 0, и значение переменной V3  равняется 'A'.\n",
        "\n",
        "В переменную  subset_2  сохраните только те наблюдения, у которых значения переменной V2  не равняются 10, или значения переменной V4 больше или равно 1."
      ]
    },
    {
      "cell_type": "code",
      "metadata": {
        "id": "Pvnj9ZfvQC9A",
        "colab_type": "code",
        "colab": {}
      },
      "source": [
        "# переменная my_stat уже создана\n",
        "subset_1 = my_stat.query('V1 > 0 & V3 == \"A\"')\n",
        "subset_2 = my_stat.query('V2 != 10 | V4 >= 1')"
      ],
      "execution_count": 0,
      "outputs": []
    },
    {
      "cell_type": "markdown",
      "metadata": {
        "id": "aHfqaqkBQRug",
        "colab_type": "text"
      },
      "source": [
        "1.8.5 Переменные V1, V2  ... такие имена никуда не годятся. С такими названиями легко запутаться в собственных данных и в результате ошибиться в расчетах.\n",
        "\n",
        "Переименуйте колонки в данных  my_stat следующим образом:\n",
        "\n",
        "V1 -> session_value\n",
        "\n",
        "V2 -> group\n",
        "\n",
        "V3 -> time\n",
        "\n",
        "V4 -> n_users"
      ]
    },
    {
      "cell_type": "code",
      "metadata": {
        "id": "2Tofwhjkch91",
        "colab_type": "code",
        "outputId": "37ba93f3-59ca-4e49-ed1b-16705db741a4",
        "colab": {
          "base_uri": "https://localhost:8080/",
          "height": 202
        }
      },
      "source": [
        "my_stat = pd.read_csv('https://stepik.org/media/attachments/course/4852/my_stat_1.csv')\n",
        "my_stat = my_stat.rename(columns ={'V1': 'session_value', 'V2': 'group','V3': 'time', 'V4': 'n_users'})\n",
        "my_stat.head()"
      ],
      "execution_count": 0,
      "outputs": [
        {
          "output_type": "execute_result",
          "data": {
            "text/html": [
              "<div>\n",
              "<style scoped>\n",
              "    .dataframe tbody tr th:only-of-type {\n",
              "        vertical-align: middle;\n",
              "    }\n",
              "\n",
              "    .dataframe tbody tr th {\n",
              "        vertical-align: top;\n",
              "    }\n",
              "\n",
              "    .dataframe thead th {\n",
              "        text-align: right;\n",
              "    }\n",
              "</style>\n",
              "<table border=\"1\" class=\"dataframe\">\n",
              "  <thead>\n",
              "    <tr style=\"text-align: right;\">\n",
              "      <th></th>\n",
              "      <th>session_value</th>\n",
              "      <th>time</th>\n",
              "      <th>group</th>\n",
              "      <th>n_users</th>\n",
              "    </tr>\n",
              "  </thead>\n",
              "  <tbody>\n",
              "    <tr>\n",
              "      <th>0</th>\n",
              "      <td>0.0</td>\n",
              "      <td>12</td>\n",
              "      <td>B</td>\n",
              "      <td>9</td>\n",
              "    </tr>\n",
              "    <tr>\n",
              "      <th>1</th>\n",
              "      <td>NaN</td>\n",
              "      <td>11</td>\n",
              "      <td>A</td>\n",
              "      <td>-1</td>\n",
              "    </tr>\n",
              "    <tr>\n",
              "      <th>2</th>\n",
              "      <td>1.0</td>\n",
              "      <td>8</td>\n",
              "      <td>A</td>\n",
              "      <td>1</td>\n",
              "    </tr>\n",
              "    <tr>\n",
              "      <th>3</th>\n",
              "      <td>2.0</td>\n",
              "      <td>9</td>\n",
              "      <td>B</td>\n",
              "      <td>3</td>\n",
              "    </tr>\n",
              "    <tr>\n",
              "      <th>4</th>\n",
              "      <td>2.0</td>\n",
              "      <td>10</td>\n",
              "      <td>B</td>\n",
              "      <td>9</td>\n",
              "    </tr>\n",
              "  </tbody>\n",
              "</table>\n",
              "</div>"
            ],
            "text/plain": [
              "   session_value  time group  n_users\n",
              "0            0.0    12     B        9\n",
              "1            NaN    11     A       -1\n",
              "2            1.0     8     A        1\n",
              "3            2.0     9     B        3\n",
              "4            2.0    10     B        9"
            ]
          },
          "metadata": {
            "tags": []
          },
          "execution_count": 4
        }
      ]
    },
    {
      "cell_type": "markdown",
      "metadata": {
        "id": "o4dG63phQ3f6",
        "colab_type": "text"
      },
      "source": [
        "1.8.6 В dataframe с именем my_stat сохранены данные с 4 колонками: session_value, group, time, n_users.  \n",
        "\n",
        "В переменной session_value замените все пропущенные значения на нули.\n",
        "\n",
        "В переменной n_users замените все отрицательные значения на медианное значение переменной n_users (без учета отрицательных значений, разумеется)."
      ]
    },
    {
      "cell_type": "code",
      "metadata": {
        "id": "rzGDmN__Q9_X",
        "colab_type": "code",
        "outputId": "25c508a6-fee3-423f-83bc-60ee97ebb6d7",
        "colab": {
          "base_uri": "https://localhost:8080/",
          "height": 202
        }
      },
      "source": [
        "my_stat = my_stat.fillna(0)\n",
        "my_stat.loc[my_stat.n_users<0, 'n_users']=my_stat.query(\"n_users>=0\").n_users.median()\n",
        "my_stat.head()"
      ],
      "execution_count": 0,
      "outputs": [
        {
          "output_type": "execute_result",
          "data": {
            "text/html": [
              "<div>\n",
              "<style scoped>\n",
              "    .dataframe tbody tr th:only-of-type {\n",
              "        vertical-align: middle;\n",
              "    }\n",
              "\n",
              "    .dataframe tbody tr th {\n",
              "        vertical-align: top;\n",
              "    }\n",
              "\n",
              "    .dataframe thead th {\n",
              "        text-align: right;\n",
              "    }\n",
              "</style>\n",
              "<table border=\"1\" class=\"dataframe\">\n",
              "  <thead>\n",
              "    <tr style=\"text-align: right;\">\n",
              "      <th></th>\n",
              "      <th>session_value</th>\n",
              "      <th>time</th>\n",
              "      <th>group</th>\n",
              "      <th>n_users</th>\n",
              "    </tr>\n",
              "  </thead>\n",
              "  <tbody>\n",
              "    <tr>\n",
              "      <th>0</th>\n",
              "      <td>0.0</td>\n",
              "      <td>12</td>\n",
              "      <td>B</td>\n",
              "      <td>9.0</td>\n",
              "    </tr>\n",
              "    <tr>\n",
              "      <th>1</th>\n",
              "      <td>0.0</td>\n",
              "      <td>11</td>\n",
              "      <td>A</td>\n",
              "      <td>5.0</td>\n",
              "    </tr>\n",
              "    <tr>\n",
              "      <th>2</th>\n",
              "      <td>1.0</td>\n",
              "      <td>8</td>\n",
              "      <td>A</td>\n",
              "      <td>1.0</td>\n",
              "    </tr>\n",
              "    <tr>\n",
              "      <th>3</th>\n",
              "      <td>2.0</td>\n",
              "      <td>9</td>\n",
              "      <td>B</td>\n",
              "      <td>3.0</td>\n",
              "    </tr>\n",
              "    <tr>\n",
              "      <th>4</th>\n",
              "      <td>2.0</td>\n",
              "      <td>10</td>\n",
              "      <td>B</td>\n",
              "      <td>9.0</td>\n",
              "    </tr>\n",
              "  </tbody>\n",
              "</table>\n",
              "</div>"
            ],
            "text/plain": [
              "   session_value  time group  n_users\n",
              "0            0.0    12     B      9.0\n",
              "1            0.0    11     A      5.0\n",
              "2            1.0     8     A      1.0\n",
              "3            2.0     9     B      3.0\n",
              "4            2.0    10     B      9.0"
            ]
          },
          "metadata": {
            "tags": []
          },
          "execution_count": 7
        }
      ]
    },
    {
      "cell_type": "markdown",
      "metadata": {
        "id": "aNrS-3GQGQNg",
        "colab_type": "text"
      },
      "source": [
        "1.8.7 В этой задаче для данных my_stat рассчитайте среднее значение переменной session_value для каждой группы (переменная group), в получившемся dataframe  переменная group не должна превратиться в индекс. Также переименуйте колонку со средним значением session_value в mean_session_value.\n",
        "\n",
        "Получившийся результат сохраните в dataframe с именем mean_session_value_data."
      ]
    },
    {
      "cell_type": "code",
      "metadata": {
        "id": "bAQ-PJ4LTvAI",
        "colab_type": "code",
        "outputId": "58c5499d-889e-4c5b-b420-8daf27c3b507",
        "colab": {
          "base_uri": "https://localhost:8080/",
          "height": 110
        }
      },
      "source": [
        "mean_session_value = my_stat.groupby('group', as_index = False).agg({'session_value': 'mean'})\n",
        "mean_session_value_data = mean_session_value.rename(columns ={'session_value': 'mean_session_value'})\n",
        "mean_session_value_data"
      ],
      "execution_count": 0,
      "outputs": [
        {
          "output_type": "execute_result",
          "data": {
            "text/html": [
              "<div>\n",
              "<style scoped>\n",
              "    .dataframe tbody tr th:only-of-type {\n",
              "        vertical-align: middle;\n",
              "    }\n",
              "\n",
              "    .dataframe tbody tr th {\n",
              "        vertical-align: top;\n",
              "    }\n",
              "\n",
              "    .dataframe thead th {\n",
              "        text-align: right;\n",
              "    }\n",
              "</style>\n",
              "<table border=\"1\" class=\"dataframe\">\n",
              "  <thead>\n",
              "    <tr style=\"text-align: right;\">\n",
              "      <th></th>\n",
              "      <th>group</th>\n",
              "      <th>mean_session_value</th>\n",
              "    </tr>\n",
              "  </thead>\n",
              "  <tbody>\n",
              "    <tr>\n",
              "      <th>0</th>\n",
              "      <td>A</td>\n",
              "      <td>0.8</td>\n",
              "    </tr>\n",
              "    <tr>\n",
              "      <th>1</th>\n",
              "      <td>B</td>\n",
              "      <td>0.8</td>\n",
              "    </tr>\n",
              "  </tbody>\n",
              "</table>\n",
              "</div>"
            ],
            "text/plain": [
              "  group  mean_session_value\n",
              "0     A                 0.8\n",
              "1     B                 0.8"
            ]
          },
          "metadata": {
            "tags": []
          },
          "execution_count": 8
        }
      ]
    }
  ]
}